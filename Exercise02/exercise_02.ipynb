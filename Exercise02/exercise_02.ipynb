{
 "cells": [
  {
   "cell_type": "code",
   "execution_count": null,
   "metadata": {},
   "outputs": [],
   "source": [
    "import numpy as np\n",
    "import matplotlib.pyplot as plt\n",
    "import scipy\n",
    "\n",
    "\n",
    "N = 8\n",
    "nTherm = 500\n",
    "nMeas = 1000\n",
    "lamda = N**2\n",
    "T = 1\n",
    "h = 0\n",
    "J = 1\n",
    "beta = 1/T\n",
    "\n",
    "def generate_spin_config(N):\n",
    "    return 2*np.random.randint(2, size=(N,N))-1\n",
    "\n",
    "def neighbors(s,x,y):\n",
    "    left = s[y][x-1]\n",
    "    right = s[y][(x+1)%N]\n",
    "    bottom = s[(y+1)%N][x]\n",
    "    top = s[y-1][x]\n",
    "    return left, right, bottom, top\n",
    "\n",
    "def calc_delta_S(s,J,h,x,y,N):\n",
    "    return 2 * s[y][x]*(J*(np.sum(neighbors(s,x,y))) + h)\n",
    "\n",
    "def numerical(J, h, N, T):\n",
    "    spin_conf = generate_spin_config(N)\n",
    "    plot_x = []\n",
    "    plot_y = []\n",
    "    \n",
    "    for i in range(nTherm):\n",
    "        x = np.random.randint(0,N)\n",
    "        y = np.random.randint(0,N)\n",
    "        delta_S = calc_delta_S(spin_conf,J,h,x,y,N)\n",
    "        if np.random.uniform(0,1) <= np.exp(-beta*delta_S): # also accept\n",
    "            spin_conf[y][x] *= -1\n",
    "        plot_x.append(i)\n",
    "        plot_y.append(np.mean(spin_conf))\n",
    "    #plt.plot(plot_x,plot_y)\n",
    "    #plt.show()\n",
    "    \n",
    "    m=np.array([])\n",
    "    m_plot_y=np.array([])\n",
    "    for i in range(nMeas):\n",
    "        for j in range(lamda):\n",
    "            x = np.random.randint(0,N)\n",
    "            y = np.random.randint(0,N)\n",
    "            delta_S = calc_delta_S(spin_conf,J,h,x,y,N)\n",
    "            if np.random.uniform(0,1) <= np.exp(-beta*delta_S): # also accept\n",
    "                spin_conf[y][x] *= -1\n",
    "        m=np.append(m,spin_conf.mean())\n",
    "        m_plot_y=np.append(m_plot_y, i)\n",
    "\n",
    "    return np.mean(m)\n",
    "\n",
    "\n",
    "\n",
    "def epsilon(J):\n",
    "    return -J*np.coth(2*J)*(1+2/np.pi*(2*np.tanh(2*J)**2-1)*scipy.special.ellipk(4*np.sech(2*J)**2*np.tanh(2*J)**2))\n",
    "\n",
    "\n",
    "\n"
   ]
  },
  {
   "cell_type": "markdown",
   "metadata": {},
   "source": [
    "# Exercise 02 - Simulation of the 2d-Ising-model\n",
    "The two-dimensional Ising-model is studied via a Markov-Chain-Monte-Carlo-Simulation (MCMC) and the results will be compared to analytically calculated solutions.\n",
    "## Theory\n",
    "Similar to the one dimensional case, the hamiltonian for the two-dimensional spin-lattice $\\mathbf{s}$ in an external magnetic field $h$ in a heat bath of temperature $T$ and with side lengths $N$ is given by \n",
    "$$\\mathcal{H}(\\mathbf{s})=-J\\sum_{\\langle x,y\\rangle}s_xs_y-h\\sum_{x}^Ns_x, $$ where $x$ now numbers the lattice site. $\\langle x,y\\rangle$ denotes the sum over the nearest neighbors, thus $J$ is the coupling strength between the spins. Periodic boundary conditions are assumed in each direction. The probability of finding a specific spin configuration $\\mathbf{s}$ is given by \n",
    "\n",
    "$$\\mathbf{P}(\\mathbf{s})=\\exp{\\bigg(-\\frac{\\mathcal{H}(\\mathbf{s})}{k_bT}\\bigg)}/\\sum_{\\mathbf{s'}}\\exp{\\bigg(-\\frac{\\mathcal{H}(\\mathbf{s'})}{k_bT}\\bigg)}:=\\frac{1}{Z}\\exp{\\bigg(-\\frac{\\mathcal{H}(\\mathbf{s'})}{k_bT}\\bigg)}$$\n",
    "\n",
    "with the partition function $Z:=\\sum_{\\mathbf{s'}}\\exp{\\left(\\frac{-\\mathcal{H}(\\mathbf{s'})}{k_BT}\\right)}$. In the thermodynamic limit ($N\\to\\infty$) solutions for energy per site $\\epsilon$ and magnetization per spin $m$ with $h=0$ are known:\n",
    "\n",
    "$$|m|=\\begin{cases}\n",
    "    \\left(1-\\frac{1}{\\sinh ^{4}(2.7)}\\right)^{1 / 8} & \\forall J>J_c \\\\\n",
    "    0 & \\forall J\\leq J_c\n",
    "    \\end{cases}\n",
    "$$\n",
    "Where $J_c="
   ]
  },
  {
   "cell_type": "code",
   "execution_count": null,
   "metadata": {},
   "outputs": [],
   "source": [
    "magnetization = []\n",
    "\n",
    "m = []\n",
    "h_list = [i for i in np.linspace(-1,1,20)]\n",
    "\n",
    "for h in h_list:\n",
    "    print(h)\n",
    "    m.append(numerical(J, h, N, T))\n"
   ]
  },
  {
   "cell_type": "code",
   "execution_count": null,
   "metadata": {},
   "outputs": [],
   "source": [
    "plt.plot(h_list, m)"
   ]
  }
 ],
 "metadata": {
  "kernelspec": {
   "display_name": "Python 3",
   "language": "python",
   "name": "python3"
  },
  "language_info": {
   "codemirror_mode": {
    "name": "ipython",
    "version": 3
   },
   "file_extension": ".py",
   "mimetype": "text/x-python",
   "name": "python",
   "nbconvert_exporter": "python",
   "pygments_lexer": "ipython3",
   "version": "3.8.6"
  }
 },
 "nbformat": 4,
 "nbformat_minor": 4
}
