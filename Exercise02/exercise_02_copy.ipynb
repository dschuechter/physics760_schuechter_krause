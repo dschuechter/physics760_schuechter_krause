{
 "cells": [
  {
   "cell_type": "code",
   "execution_count": 120,
   "metadata": {},
   "outputs": [
    {
     "data": {
      "text/html": [
       "<style>.container { width:90% !important; }</style>"
      ],
      "text/plain": [
       "<IPython.core.display.HTML object>"
      ]
     },
     "metadata": {},
     "output_type": "display_data"
    }
   ],
   "source": [
    "# Import packages\n",
    "from IPython.core.display import display, HTML\n",
    "display(HTML(\"<style>.container { width:90% !important; }</style>\"))\n",
    "import numpy as np\n",
    "import random\n",
    "import matplotlib.pyplot as plt\n",
    "from IPython.display import Markdown, display\n",
    "def printmd(string):\n",
    "    display(Markdown(string))\n",
    "\n",
    "\n",
    "# A method to set the plot parameters and make them beautiful ;)\n",
    "def beauty_plot():\n",
    "    plt.figure(figsize=(10,5))\n",
    "    plt.minorticks_on()\n",
    "    plt.rcParams[\"mathtext.fontset\"]=\"cm\"\n",
    "    plt.rcParams['errorbar.capsize'] = 3\n",
    "    plt.rcParams['mathtext.rm'] = 'serif'\n",
    "    font={'family' : 'serif','size'   : 22}\n",
    "    plt.rc(\"font\",**font)\n",
    "    plt.xticks(fontsize=22,fontname='DejaVu Serif')\n",
    "    plt.yticks(fontsize=22,fontname='DejaVu Serif')\n",
    "    plt.grid(color='black',linestyle=':')\n",
    "#find nearest neighbors\n",
    "def find_neighbors(s,i,j):\n",
    "    try:\n",
    "        bottom=s[j+1][i]\n",
    "    except:\n",
    "        bottom=s[0][i]\n",
    "    try:\n",
    "        right=s[j][i+1]\n",
    "    except:\n",
    "        right=s[j][0]\n",
    "    return bottom, right\n",
    "#define hamiltonian        \n",
    "def hamiltonian(s):\n",
    "    spin_sum=0\n",
    "    neighbor_sum=0\n",
    "    for i in range(0,N_x):\n",
    "        for j in range(0,N_y):\n",
    "            spin_sum+=s[j][i]\n",
    "            neighbors=find_neighbors(s,i,j)\n",
    "            for z in neighbors:\n",
    "                neighbor_sum+=s[j][i]*z\n",
    "    return -J*neighbor_sum-h*spin_sum\n",
    "\n",
    "# Methode to create spin configurations\n",
    "def Two_D_spin_config(N_x, N_y):\n",
    "    spin_config = []\n",
    "    for i in range(0, N_y):\n",
    "        spin_config.append(2*np.random.randint(0,2,size=N_x)-1)\n",
    "    return np.array(spin_config)\n",
    "\n",
    "def flip_spin(s,i,j):\n",
    "    smod=s.copy()\n",
    "    smod[j][i]*=-1\n",
    "    return smod\n",
    "    \n",
    "#calculate magnetization, energy ... with metropolis-hastings algorithm for a given spin configuration s\n",
    "def metropolis(s):\n",
    "    for i in range(0,N_x):\n",
    "        for j in range(0,N_y):\n",
    "            flipped_s=flip_spin(s,i,j) #choose a spin and flip it\n",
    "            y=np.random.uniform(0,1)\n",
    "            delta_S=(hamiltonian(flipped_s)-hamiltonian(s))\n",
    "            #print(delta_S)\n",
    "            if(y<=np.exp(-1*beta*delta_S)):\n",
    "                s=flipped_s # keep the flipped spin\n",
    "    return s\n",
    "\n",
    "J=1\n",
    "h=1\n",
    "N_x=8\n",
    "N_y=N_x\n",
    "T=1\n",
    "beta=1/T\n",
    "                \n",
    "                \n",
    "sconfig=Two_D_spin_config(N_x,N_y)              \n",
    "x=[]\n",
    "y=[]\n",
    "\n",
    "#for i in range(0,500):\n",
    "#    sconfig=metropolis(sconfig)\n",
    "#    x.append(i)\n",
    "#    y.append(np.sum(sconfig)/N_x/N_y)\n",
    "\n",
    "#plt.plot(x,y)    \n",
    "\n",
    "\n"
   ]
  },
  {
   "cell_type": "code",
   "execution_count": 131,
   "metadata": {},
   "outputs": [
    {
     "name": "stdout",
     "output_type": "stream",
     "text": [
      "[[-1 -1  1]\n",
      " [-1 -1  1]\n",
      " [-1 -1 -1]]\n",
      "[[-1  1 -1]\n",
      " [-1  1 -1]\n",
      " [-1  1 -1]]\n",
      "[[-1  1 -1]\n",
      " [-1  1 -1]\n",
      " [-1  1 -1]]\n",
      "[[1 1 1]\n",
      " [1 1 1]\n",
      " [1 1 1]]\n",
      "[[1 1 1]\n",
      " [1 1 1]\n",
      " [1 1 1]]\n",
      "[[1 1 1]\n",
      " [1 1 1]\n",
      " [1 1 1]]\n",
      "[[1 1 1]\n",
      " [1 1 1]\n",
      " [1 1 1]]\n",
      "[[ 1  1  1]\n",
      " [-1 -1  1]\n",
      " [ 1  1  1]]\n",
      "[[ 1  1  1]\n",
      " [-1 -1  1]\n",
      " [ 1  1  1]]\n",
      "[[1 1 1]\n",
      " [1 1 1]\n",
      " [1 1 1]]\n",
      "[[1 1 1]\n",
      " [1 1 1]\n",
      " [1 1 1]]\n",
      "[[-1  1  1]\n",
      " [-1  1  1]\n",
      " [-1  1 -1]]\n",
      "[[-1  1  1]\n",
      " [-1  1  1]\n",
      " [-1  1 -1]]\n",
      "[[1 1 1]\n",
      " [1 1 1]\n",
      " [1 1 1]]\n",
      "[[1 1 1]\n",
      " [1 1 1]\n",
      " [1 1 1]]\n",
      "[[ 1  1  1]\n",
      " [ 1  1  1]\n",
      " [-1 -1 -1]]\n",
      "[[ 1  1  1]\n",
      " [ 1  1  1]\n",
      " [-1 -1 -1]]\n",
      "[[ 1  1  1]\n",
      " [-1  1  1]\n",
      " [ 1  1  1]]\n",
      "[[ 1  1  1]\n",
      " [-1  1  1]\n",
      " [ 1  1  1]]\n",
      "[[-1  1  1]\n",
      " [ 1 -1  1]\n",
      " [ 1  1 -1]]\n"
     ]
    },
    {
     "data": {
      "text/plain": [
       "[<matplotlib.lines.Line2D at 0x7f22d8531a60>]"
      ]
     },
     "execution_count": 131,
     "metadata": {},
     "output_type": "execute_result"
    },
    {
     "data": {
      "image/png": "[encoded data removed]",
      "text/plain": [
       "<Figure size 432x288 with 1 Axes>"
      ]
     },
     "metadata": {
      "needs_background": "light"
     },
     "output_type": "display_data"
    }
   ],
   "source": [
    "J=1\n",
    "h=1\n",
    "N_x=3\n",
    "N_y=N_x\n",
    "T=5\n",
    "beta=1/T\n",
    "x=[]\n",
    "y=[]\n",
    "s=Two_D_spin_config(N_x,N_y)\n",
    "for i in range(0,100):\n",
    "    s=metropolis(s)\n",
    "    if(hamiltonian(s)=hamiltonian())\n",
    "    x.append(i)\n",
    "    y.append(np.sum(s)/N_x/N_y)\n",
    "plt.plot(x,y)"
   ]
  }
 ],
 "metadata": {
  "kernelspec": {
   "display_name": "Python 3",
   "language": "python",
   "name": "python3"
  },
  "language_info": {
   "codemirror_mode": {
    "name": "ipython",
    "version": 3
   },
   "file_extension": ".py",
   "mimetype": "text/x-python",
   "name": "python",
   "nbconvert_exporter": "python",
   "pygments_lexer": "ipython3",
   "version": "3.8.6"
  }
 },
 "nbformat": 4,
 "nbformat_minor": 4
}
