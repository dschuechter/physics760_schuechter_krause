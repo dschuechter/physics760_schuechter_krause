{
 "cells": [
  {
   "cell_type": "markdown",
   "metadata": {},
   "source": [
    "# Exercise 02 - Simulation of the 2d-Ising-model\n",
    "The two-dimensional Ising-model is studied via a Markov-Chain-Monte-Carlo-Simulation (MCMC) and the results will be compared to analytically calculated solutions.\n",
    "## Theory\n",
    "Similar to the one dimensional case, the hamiltonian for the two-dimensional spin-lattice $\\mathbf{s}$ in an external magnetic field $h$ in a heat bath of temperature $T$ and with side lengths $N$ is given by \n",
    "$$\\mathcal{H}(\\mathbf{s})=-J\\sum_{\\langle x,y\\rangle}s_xs_y-h\\sum_{x}^Ns_x, $$ where $x$ now numbers the lattice site. $\\langle x,y\\rangle$ denotes the sum over the nearest neighbors, thus $J$ is the coupling strength between the spins. Periodic boundary conditions are assumed in each direction. The probability of finding a specific spin configuration $\\mathbf{s}$ is given by \n",
    "\n",
    "$$\\mathbf{P}(\\mathbf{s})=\\exp{\\bigg(-\\frac{\\mathcal{H}(\\mathbf{s})}{k_bT}\\bigg)}/\\sum_{\\mathbf{s'}}\\exp{\\bigg(-\\frac{\\mathcal{H}(\\mathbf{s'})}{k_bT}\\bigg)}:=\\frac{1}{Z}\\exp{\\bigg(-\\frac{\\mathcal{H}(\\mathbf{s'})}{k_bT}\\bigg)}$$\n",
    "\n",
    "with the partition function $Z:=\\sum_{\\mathbf{s'}}\\exp{\\left(\\frac{-\\mathcal{H}(\\mathbf{s'})}{k_BT}\\right)}$. In the thermodynamic limit ($N\\to\\infty$) solutions for energy per site $\\epsilon$ and magnetization per spin $m$ with $h=0$ are known:\n",
    "\n",
    "$$\\epsilon=-J \\text{coth}(2 J)\\left(1+\\frac{2}{\\pi}\\left(2 \\tanh ^{2}(2 J)-1\\right) K\\left(4 \\text{sech}^{2}(2 J) \\tanh ^{2}(2 J)\\right)\\right)$$\n",
    "\n",
    "\n",
    "$$|m|=\\begin{cases}\n",
    "    \\left(1-\\frac{1}{\\sinh ^{4}(2.7)}\\right)^{1 / 8} & \\forall J>J_c \\\\\n",
    "    0 & \\forall J\\leq J_c\n",
    "    \\end{cases}\n",
    "$$\n",
    "Where $J_c=\\frac{1}{2}\\log{(1+\\sqrt{2})}$ and $K(m)$ is the incomplete elliptic integral of the first kind. \n",
    "\n",
    "*4. What is the significance of the critical coupling $J_c$ ?*\n",
    "\n",
    "$J_c$ is the coupling strength belonging to the critical temperature $T_c$. Below the critical temperature it is $J>J_c$ therefore a net magnetization can be measured. For $J<J_c$ the coupling is not sufficient to reach a net magnetization, i.e. for temperatures larger than the critical temperature."
   ]
  },
  {
   "cell_type": "markdown",
   "metadata": {},
   "source": [
    "## Aim of the code\n",
    "\n",
    "*1. Modify your 1D Ising code so that it works in 2 dimensions as described above. Furthermore, implement the Metropolis-Hastings accept/reject that was discussed in the lectures\n",
    "(in other words do NOT do a “brute-force” calculation like in the previous homework). Set\n",
    "your code up such that measurements are done after each “sweep” of the lattice, where a\n",
    "“sweep” constitutes looping over all sites on the lattice, and at each site flipping its spin and\n",
    "performing the Metropolis-Hastings accept/reject step. In other words, after each “sweep” of\n",
    "the lattice you will have performed $\\Lambda$ accept/reject tests .*\n",
    "\n",
    "Below the implementation of the desired code can be found. We divided it into two parts, the numerical approach, where we use a Monte-Carlo-Simulation to get a result and the analytical approach where we simply implemented the analytically obtained results in python code.\n",
    "\n",
    "### Numerical approach\n",
    "\n",
    "To simulate the properties of the 2d Ising-model a Markov-Chain-Monte-Carlo Method is used. It employs the following algorithm\n",
    "1. choose a random spin $s_{ij}$\n",
    "2. flip the spin and determine the change in energy $\\Delta S=\\mathcal{H}(\\mathbf{s}^{\\text{flipped}})-\\mathcal{H}(\\mathbf{s}^\\text{unflipped})$ (where $\\beta=1$)\n",
    "3. sample random $y$ $\\sim \\mathcal{U}(0,1)$\n",
    "4. if $y\\leq \\exp(-\\Delta S)$ ACCEPT the spin flip, otherwise REJECT\n",
    "5. repeat 1.-4. $\\Lambda=N^2$ times\n",
    "6. make measurement $O_i$ and store it\n",
    "7. go back to 1. $M$ times\n",
    "8. calculate Monte Carlo estimate as $\\langle O \\rangle =1/M\\sum_{i=1}^M O_i$\n",
    "\n",
    "This algorithm makes sure that the distribution of the spins follows the Boltzmann-distribution while simultaneously only those parts of the partition sum which contribute significantly (small energys) are kept and considered in the calculation of expectation values such as magnetization and energy.\n",
    "\n",
    "*How does the numerical cost of the calculation of the energy (for a given spin configuration) scale with the system size $\\Lambda$?*\n",
    "The numerical costs of the calculation of the energy scales linearly with $\\Lambda=N^2$\n",
    "\n",
    "*Assuming you’ve flipped one spin $s_i$, how does the numerical cost of the calculation of\n",
    "the change in energy $\\Delta S$ scale with the system size $\\Lambda$?*\n",
    "If we only flip one spin, then all of the interaction terms $\\propto s_is_j$ with the respective next neighbors will cancel out excluding the term with flipped spin; this leads to \n",
    "$$\\Delta S = \\mathcal{H}(\\mathbf{-s})-\\mathcal{H}(\\mathbf{s})=J s_i\\sum_{\\langle j \\rangle} s_j+h\\cdot s_i - h\\cdot\\sum_{j, j\\neq i}s_j-\\left(-Js_i\\sum_{\\langle j \\rangle} s_j-hs_i-h\\cdot\\sum_{j, j\\neq i}s_j\\right)=2s_i\\left(\\sum_{\\langle j \\rangle} Js_j+h\\right).$$\n",
    "Therefore the numerical cost of calculating $\\Delta S$ is independent of $\\Lambda$."
   ]
  },
  {
   "cell_type": "code",
   "execution_count": 1,
   "metadata": {},
   "outputs": [],
   "source": [
    "import numpy as np\n",
    "import matplotlib.pyplot as plt\n",
    "import scipy\n",
    "\n",
    "\n",
    "N = 8\n",
    "nTherm = 500\n",
    "nMeas = 1000\n",
    "lamda = N**2\n",
    "T = 1\n",
    "h = 0\n",
    "J = 1\n",
    "beta = 1/T\n",
    "\n",
    "def generate_spin_config(N):\n",
    "    return 2*np.random.randint(2, size=(N,N))-1\n",
    "\n",
    "def neighbors(s,x,y):\n",
    "    left = s[y][x-1]\n",
    "    right = s[y][(x+1)%N]\n",
    "    bottom = s[(y+1)%N][x]\n",
    "    top = s[y-1][x]\n",
    "    return left, right, bottom, top\n",
    "\n",
    "def calc_delta_S(s,J,h,x,y,N):\n",
    "    return 2 * s[y][x]*(J*(np.sum(neighbors(s,x,y))) + h)\n",
    "\n",
    "def numerical(J, h, N, T):\n",
    "    spin_conf = generate_spin_config(N)\n",
    "    plot_x = []\n",
    "    plot_y = []\n",
    "    \n",
    "    for i in range(nTherm):\n",
    "        x = np.random.randint(0,N)\n",
    "        y = np.random.randint(0,N)\n",
    "        delta_S = calc_delta_S(spin_conf,J,h,x,y,N)\n",
    "        if np.random.uniform(0,1) <= np.exp(-beta*delta_S): # also accept\n",
    "            spin_conf[y][x] *= -1\n",
    "        plot_x.append(i)\n",
    "        plot_y.append(np.mean(spin_conf))\n",
    "    #plt.plot(plot_x,plot_y)\n",
    "    #plt.show()\n",
    "    \n",
    "    m=np.array([])\n",
    "    m_plot_y=np.array([])\n",
    "    for i in range(nMeas):\n",
    "        for j in range(lamda):\n",
    "            x = np.random.randint(0,N)\n",
    "            y = np.random.randint(0,N)\n",
    "            delta_S = calc_delta_S(spin_conf,J,h,x,y,N)\n",
    "            if np.random.uniform(0,1) <= np.exp(-beta*delta_S): # also accept\n",
    "                spin_conf[y][x] *= -1\n",
    "        m=np.append(m,spin_conf.mean())\n",
    "        m_plot_y=np.append(m_plot_y, i)\n",
    "\n",
    "    return np.mean(m)\n",
    "\n",
    "\n",
    "\n",
    "def epsilon(J):\n",
    "    return -J*np.coth(2*J)*(1+2/np.pi*(2*np.tanh(2*J)**2-1)*scipy.special.ellipk(4*np.sech(2*J)**2*np.tanh(2*J)**2))\n",
    "\n",
    "\n",
    "\n"
   ]
  },
  {
   "cell_type": "code",
   "execution_count": 2,
   "metadata": {},
   "outputs": [
    {
     "name": "stdout",
     "output_type": "stream",
     "text": [
      "-1.0\n",
      "-0.8947368421052632\n",
      "-0.7894736842105263\n",
      "-0.6842105263157895\n",
      "-0.5789473684210527\n",
      "-0.4736842105263158\n",
      "-0.368421052631579\n",
      "-0.26315789473684215\n",
      "-0.1578947368421053\n",
      "-0.052631578947368474\n",
      "0.05263157894736836\n",
      "0.1578947368421053\n",
      "0.26315789473684204\n",
      "0.36842105263157876\n",
      "0.4736842105263157\n",
      "0.5789473684210527\n",
      "0.6842105263157894\n",
      "0.7894736842105261\n",
      "0.894736842105263\n",
      "1.0\n"
     ]
    }
   ],
   "source": [
    "magnetization = []\n",
    "\n",
    "m = []\n",
    "h_list = [i for i in np.linspace(-1,1,20)]\n",
    "\n",
    "for h in h_list:\n",
    "    print(h)\n",
    "    m.append(numerical(J, h, N, T))\n"
   ]
  },
  {
   "cell_type": "code",
   "execution_count": 3,
   "metadata": {},
   "outputs": [
    {
     "data": {
      "text/plain": [
       "[<matplotlib.lines.Line2D at 0x7fc58151d4f0>]"
      ]
     },
     "execution_count": 3,
     "metadata": {},
     "output_type": "execute_result"
    },
    {
     "data": {
      "image/png": "[encoded data removed]",
      "text/plain": [
       "<Figure size 432x288 with 1 Axes>"
      ]
     },
     "metadata": {
      "needs_background": "light"
     },
     "output_type": "display_data"
    }
   ],
   "source": [
    "plt.plot(h_list, m)"
   ]
  }
 ],
 "metadata": {
  "kernelspec": {
   "display_name": "Python 3",
   "language": "python",
   "name": "python3"
  },
  "language_info": {
   "codemirror_mode": {
    "name": "ipython",
    "version": 3
   },
   "file_extension": ".py",
   "mimetype": "text/x-python",
   "name": "python",
   "nbconvert_exporter": "python",
   "pygments_lexer": "ipython3",
   "version": "3.8.6"
  }
 },
 "nbformat": 4,
 "nbformat_minor": 4
}
