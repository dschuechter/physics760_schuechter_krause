{
 "cells": [
  {
   "cell_type": "markdown",
   "metadata": {},
   "source": [
    "# Exercise 01 - Simulation of the 1d-Ising-model\n",
    "\n",
    "The one-dimensional Ising-model is studied via a Monte-Carlo-Simulation and the results will be compared to analytically calculated solutions.\n",
    "\n",
    "## Theory\n",
    "\n",
    "Consider a 1-dimensional chain of spins with length $N$ $\\mathbf{s_N}=(\\uparrow,\\downarrow,\\downarrow,\\uparrow,\\dots)$ where each spin can take the value $s_n=\\pm 1$. This chain of spins lies in a heat bath with temperature $T$ and is exposed to an external magnetic field of strength $h$. Following this the Hamiltonian is given as \n",
    "\n",
    "$$\\mathcal{H}(s)=-J\\sum_{\\langle x,y\\rangle}s_xs_y-h\\sum_{x}s_x. $$\n",
    "1. *Discuss the physical meaning of J, in particular the sign of J, and the role it plays in magnets, for example.*\n",
    "\n",
    "Here $J$ describes the strength of the spin-spin-coupling. For $J<0$ $\\mathcal{H}(s)$ describes a repulsive potential between the spins (antiferromagnetic) $J>0$ $\\mathcal{H}(s)$ describes an attractive potential (ferromagnetic). Trivially for $J=0$ no interaction between spins take place.\n",
    "\n",
    "2. *Clarify what it means to have periodic boundary conditions (nearest neighbors).* \n",
    "\n",
    "To simulate an *infinite* chain of spins one employs periodic boundary conditions, which means that each element of the chain $s_n$ has the nearest neighbors $s_{n-1}$ and $s_{n+1}$ regardless of the actual position in the chain. That means if $n=N$ ($n=0$) the nearest neighbors are $[N-1,0]$ ($[N,1]$). \n",
    "\n",
    "The probability of finding a specific spin configuration $\\mathbf{s_N}$ is given by \n",
    "\n",
    "$$\\mathbf{P}(\\mathbf{s})=\\exp{\\bigg(-\\frac{\\mathcal{H}(\\mathbf{s})}{k_bT}\\bigg)}/\\sum_{\\mathbf{s'}}\\exp{\\bigg(-\\frac{\\mathcal{H}(\\mathbf{s'})}{k_bT}\\bigg)}:=\\frac{1}{Z}\\exp{\\bigg(-\\frac{\\mathcal{H}(\\mathbf{s'})}{k_bT}\\bigg)}$$\n",
    "\n",
    "with the partition function $Z:=\\sum_{\\mathbf{s'}}\\exp{\\left(\\frac{-\\mathcal{H}(\\mathbf{s'})}{k_BT}\\right)}$ which can be calculated analytically (see e.g. [this wikipedia-article](https://en.wikipedia.org/wiki/Ising_model#Ising's_exact_solution) ) to be \n",
    "$$Z=\\lambda_+^N+\\lambda_-^N ; \\lambda_\\pm=e^{\\frac{J}{T}}\\bigg(\\cosh\\big(\\frac{h}{T}\\big)\\pm\\sqrt{\\sinh\\big(\\frac{h}{T}\\big)^2+e^{-4\\frac{J}{T}}}\\bigg)$$\n",
    "where we set $k_B=1$.\n",
    "\n",
    "*Since we work with units where $k_B=1$, what are the relevant dimensionless ratios in the problem?*\n",
    "\n",
    "This leads to $\\frac{J}{T}$ and $\\frac{h}{T}$ to be dimensionless.\n",
    "\n",
    "With the partition function one can calculate the magnetization per spin $$\\begin{equation} \\langle m \\rangle = \\frac{T}{N}\\frac{\\partial\\log Z}{\\partial h }=\\frac{1-(\\lambda_-^N/\\lambda_+^N)}{1+(\\lambda_-^N/\\lambda_+^N)}\\frac{\\left(\\sinh{\\frac{h}{T}}\\right)}{\\sqrt{\\sinh{\\frac{h}{T}}^2+e^{-4J/T}}}\\overset{N\\to\\infty}{=}\\frac{\\left(\\sinh{\\frac{h}{T}}\\right)}{\\sqrt{\\sinh{\\frac{h}{T}}^2+e^{-4J/T}}} \\label{eq:eq1}\\end{equation} \\tag{1}$$\n",
    "## Aim of the code\n"
   ]
  },
  {
   "cell_type": "markdown",
   "metadata": {},
   "source": [
    "\n",
    "\n",
    "3. *Implement the Ising 1d simulation: determine an estimate for magnetization per spin* $$\\langle m\\rangle=\\frac{T}{N}\\frac{\\partial \\log{Z}}{\\partial h}$$ *and estimate the error of your estimate.*\n",
    "\n",
    "Below the implementation for an estimate of the magnetization per spin $\\langle m \\rangle$ can be found. We divided it into two parts, the numerical approach, where we use a Monte-Carlo-Simulation to get a result and the analytical approach where we simply implemented equation (1) in python code."
   ]
  },
  {
   "cell_type": "markdown",
   "metadata": {},
   "source": [
    "### Numerical approach\n",
    "To numerically estimate the magnetizazion per spin we used the Monte-Carlo-Method. We randomly created an ensemble $\\mathbf{S}$ with random spin configurations $\\mathbf{s}$ with `ensemble_length` spin configurations. Then the expectation value can be estimated via $$\\langle m\\rangle=\\frac{\\sum_{\\mathbf{s} \\in\\{\\mathbf{S}\\}} O(\\mathbf{s}) e^{-\\beta \\mathcal{H}(\\mathbf{s})}}{\\sum_{\\mathbf{s} \\in\\{\\mathbf{S}\\}} e^{-\\beta \\mathcal{H}(\\mathbf{s})}}.$$\n",
    "To estimate an error of the estimate we calculate $\\langle m\\rangle$ several times and compute the expectation value $\\mu$ and variance $\\sigma$ of the resulting distribution of $\\langle m_i\\rangle$."
   ]
  },
  {
   "cell_type": "code",
   "execution_count": 63,
   "metadata": {},
   "outputs": [
    {
     "data": {
      "text/html": [
       "<style>.container { width:90% !important; }</style>"
      ],
      "text/plain": [
       "<IPython.core.display.HTML object>"
      ]
     },
     "metadata": {},
     "output_type": "display_data"
    },
    {
     "name": "stdout",
     "output_type": "stream",
     "text": [
      "[array([1, 1, 1, 1, 1, 1, 1, 1]), array([1, 1, 1, 1, 1, 1, 1, 1]), array([1, 1, 1, 1, 1, 1, 1, 1]), array([1, 1, 1, 1, 1, 1, 1, 1]), array([1, 1, 1, 1, 1, 1, 1, 1]), array([1, 1, 1, 1, 1, 1, 1, 1]), array([1, 1, 1, 1, 1, 1, 1, 1]), array([1, 1, 1, 1, 1, 1, 1, 1])]\n"
     ]
    },
    {
     "data": {
      "image/png": "[encoded data removed]",
      "text/plain": [
       "<Figure size 432x288 with 1 Axes>"
      ]
     },
     "metadata": {
      "needs_background": "light"
     },
     "output_type": "display_data"
    }
   ],
   "source": [
    "# Import packages\n",
    "from IPython.core.display import display, HTML\n",
    "display(HTML(\"<style>.container { width:90% !important; }</style>\"))\n",
    "import numpy as np\n",
    "import random\n",
    "import matplotlib.pyplot as plt\n",
    "from IPython.display import Markdown, display\n",
    "def printmd(string):\n",
    "    display(Markdown(string))\n",
    "\n",
    "\n",
    "# Set constants\n",
    "N=20\n",
    "ensamble_length=10000\n",
    "T=1\n",
    "J=1\n",
    "h=1\n",
    "\n",
    "# A method to set the plot parameters and make them beautiful ;)\n",
    "def beauty_plot():\n",
    "    plt.figure(figsize=(10,5))\n",
    "    plt.minorticks_on()\n",
    "    plt.rcParams[\"mathtext.fontset\"]=\"cm\"\n",
    "    plt.rcParams['errorbar.capsize'] = 3\n",
    "    plt.rcParams['mathtext.rm'] = 'serif'\n",
    "    font={'family' : 'serif','size'   : 22}\n",
    "    plt.rc(\"font\",**font)\n",
    "    plt.xticks(fontsize=22,fontname='DejaVu Serif')\n",
    "    plt.yticks(fontsize=22,fontname='DejaVu Serif')\n",
    "    plt.grid(color='black',linestyle=':')\n",
    "\n",
    "def find_neighbors(s, i, j):\n",
    "    # find nearest neighbors\n",
    "    left = s[j][i-1]\n",
    "    top = s[j-1][i]\n",
    "    try:\n",
    "        bottom = s[j+1][i]\n",
    "    except: \n",
    "        bottom = s[0][i]\n",
    "    try:\n",
    "        right = s[j][i+1]\n",
    "    except:\n",
    "        right = s[j][0]\n",
    "    \n",
    "    return left, right, top, bottom\n",
    "        \n",
    "        \n",
    "# Define the Hamiltonian\n",
    "def Hamiltonian(s,h):\n",
    "    neighbor_sum = 0\n",
    "    spin_sum = 0 \n",
    "    for i in range(0,N_x):\n",
    "        for j in range(0, N_y):\n",
    "            neighbors = find_neighbors(s, i, j)\n",
    "            for z in neighbors:\n",
    "                neighbor_sum += s[j][i]*z\n",
    "            spin_sum += s[j][i]\n",
    "            \n",
    "    return -J*neighbor_sum-h*spin_sum\n",
    "\n",
    "\n",
    "# Methode to create spin configurations\n",
    "def Two_D_spin_config(N_x, N_y):\n",
    "    spin_config = []\n",
    "    for i in range(0, N_y):\n",
    "        spin_config.append(2*np.random.randint(0,2,size=N_x)-1)\n",
    "    return spin_config\n",
    "\n",
    "def Metropolis(s, N_x, N_y):\n",
    "    s_mod = s\n",
    "    for i in range(0, N_x):\n",
    "            for j in range(0, N_y):\n",
    "                # Calculate the unflipped Hamiltonian \n",
    "                hamiltonian_natural = Hamiltonian(s_mod, h)\n",
    "                # Flip the current spin and calculate the Hamiltonian\n",
    "                s_mod[j][i] *= -1\n",
    "                hamiltonian_flipped = Hamiltonian(s_mod, h)\n",
    "                # Metropolis-Hastings-step (Accept if Uniform{0,1} < exp(Delta S) with Delta S = \"Difference of flipped and unflipped Hamiltonian\")\n",
    "                if np.exp(-beta*(hamiltonian_flipped-hamiltonian_natural))<np.random.uniform(0,1):\n",
    "                    # Reject otherwise\n",
    "                    s_mod[j][i] *= -1\n",
    "\n",
    "                    \n",
    "    # Return modified spin configuration\n",
    "    return s_mod, np.sum(s_mod)/N_x/N_y\n",
    "\n",
    "#Calculate the expectation value\n",
    "def numerical(N_x,N_y,h):\n",
    "    \n",
    "    ensamble = []   \n",
    "    x = []\n",
    "    y = []\n",
    "    for z in range(0, sample_size):\n",
    "        spin_config = Two_D_spin_config(N_x, N_y)\n",
    "        print(spin_config)\n",
    "        test = spin_config.copy()\n",
    "        for i in range(0,200):\n",
    "            spin_config, mag = Metropolis(spin_config, N_x, N_y)\n",
    "            test = spin_config.copy()\n",
    "            y.append(mag)\n",
    "            x.append(i)\n",
    "        \n",
    "    plt.plot(x,y)\n",
    "        \n",
    "                            \n",
    "                    \n",
    "# s[N_y][N_x] - N_y: Zeile, N_x: Spalte\n",
    "T = 5\n",
    "beta = 1/T\n",
    "sample_size = 1\n",
    "N_x = 8\n",
    "N_y = N_x\n",
    "numerical(N_x,N_y,1)"
   ]
  },
  {
   "cell_type": "markdown",
   "metadata": {},
   "source": [
    "### Analytical approach\n",
    "To compare the numerical resolutions with the analytical ones, the following code represents the shown equations"
   ]
  },
  {
   "cell_type": "code",
   "execution_count": 2,
   "metadata": {},
   "outputs": [],
   "source": [
    "##this is just implemented what was stated in the theory section\n",
    "def lamda(sign, h):\n",
    "    return np.exp(J/T)*(np.cosh(h/T)+sign*np.sqrt(np.sinh(h/T)**2+np.exp(-4*J/T)))\n",
    "    \n",
    "\n",
    "def analytical(inf, N, h):\n",
    "    if inf == True:\n",
    "        return np.sinh(h/T)/(np.sqrt(np.sinh(h/T)**2+np.exp(-4*J/T)))\n",
    "    else:\n",
    "        return (1-(lamda(-1, h)**N/lamda(1, h)**N))/(1+(lamda(-1, h)**N/lamda(1, h)**N))*(np.sinh(h/T))/(np.sqrt(np.sinh(h/T)**2+np.exp(-4*J/T)))\n",
    "\n"
   ]
  },
  {
   "cell_type": "code",
   "execution_count": null,
   "metadata": {},
   "outputs": [],
   "source": []
  }
 ],
 "metadata": {
  "kernelspec": {
   "display_name": "Python 3",
   "language": "python",
   "name": "python3"
  },
  "language_info": {
   "codemirror_mode": {
    "name": "ipython",
    "version": 3
   },
   "file_extension": ".py",
   "mimetype": "text/x-python",
   "name": "python",
   "nbconvert_exporter": "python",
   "pygments_lexer": "ipython3",
   "version": "3.8.6"
  }
 },
 "nbformat": 4,
 "nbformat_minor": 4
}
