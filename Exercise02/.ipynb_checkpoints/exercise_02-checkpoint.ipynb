{
 "cells": [
  {
   "cell_type": "code",
   "execution_count": 59,
   "metadata": {},
   "outputs": [
    {
     "ename": "SyntaxError",
     "evalue": "invalid syntax (<ipython-input-59-fa012149e88c>, line 7)",
     "output_type": "error",
     "traceback": [
      "\u001b[0;36m  File \u001b[0;32m\"<ipython-input-59-fa012149e88c>\"\u001b[0;36m, line \u001b[0;32m7\u001b[0m\n\u001b[0;31m    N = 8\u001b[0m\n\u001b[0m    ^\u001b[0m\n\u001b[0;31mSyntaxError\u001b[0m\u001b[0;31m:\u001b[0m invalid syntax\n"
     ]
    }
   ],
   "source": [
    "import numpy as np\n",
    "import matplotlib.pyplot as plt\n",
    "import scipy\n",
    "import numba \n",
    "@numba.jit(nopython=True)\n",
    "\n",
    "N = 8\n",
    "nTherm = 500\n",
    "nMeas = 1000\n",
    "lamda = N**2\n",
    "T = 1\n",
    "h = 0\n",
    "J = 1\n",
    "beta = 1/T\n",
    "\n",
    "def generate_spin_config(N):\n",
    "    return 2*np.random.randint(2, size=(N,N))-1\n",
    "\n",
    "def neighbors(s,x,y):\n",
    "    left = s[y][x-1]\n",
    "    right = s[y][(x+1)%N]\n",
    "    bottom = s[(y+1)%N][x]\n",
    "    top = s[y-1][x]\n",
    "    return left, right, bottom, top\n",
    "\n",
    "def calc_delta_S(s,J,h,x,y,N):\n",
    "    return 2 * s[y][x]*(J*(np.sum(neighbors(s,x,y))) + h)\n",
    "\n",
    "def numerical(J, h, N, T):\n",
    "    spin_conf = generate_spin_config(N)\n",
    "    plot_x = []\n",
    "    plot_y = []\n",
    "    \n",
    "    for i in range(nTherm):\n",
    "        x = np.random.randint(0,N)\n",
    "        y = np.random.randint(0,N)\n",
    "        delta_S = calc_delta_S(spin_conf,J,h,x,y,N)\n",
    "        if np.random.uniform(0,1) <= np.exp(-beta*delta_S): # also accept\n",
    "            spin_conf[y][x] *= -1\n",
    "        plot_x.append(i)\n",
    "        plot_y.append(np.mean(spin_conf))\n",
    "    #plt.plot(plot_x,plot_y)\n",
    "    #plt.show()\n",
    "    \n",
    "    m=np.array([])\n",
    "    m_plot_y=np.array([])\n",
    "    for i in range(nMeas):\n",
    "        for j in range(lamda):\n",
    "            x = np.random.randint(0,N)\n",
    "            y = np.random.randint(0,N)\n",
    "            delta_S = calc_delta_S(spin_conf,J,h,x,y,N)\n",
    "            if np.random.uniform(0,1) <= np.exp(-beta*delta_S): # also accept\n",
    "                spin_conf[y][x] *= -1\n",
    "        m=np.append(m,spin_conf.mean())\n",
    "        m_plot_y=np.append(m_plot_y, i)\n",
    "\n",
    "    return np.mean(m)\n",
    "\n",
    "\n",
    "\n",
    "def epsilon(J):\n",
    "    return -J*np.coth(2*J)*(1+2/np.pi*(2*np.tanh(2*J)**2-1)*scipy.special.ellipk(4*np.sech(2*J)**2*np.tanh(2*J)**2))\n",
    "\n",
    "\n",
    "\n"
   ]
  },
  {
   "cell_type": "code",
   "execution_count": 54,
   "metadata": {},
   "outputs": [
    {
     "name": "stdout",
     "output_type": "stream",
     "text": [
      "-1.0\n",
      "-0.8947368421052632\n",
      "-0.7894736842105263\n",
      "-0.6842105263157895\n",
      "-0.5789473684210527\n",
      "-0.4736842105263158\n",
      "-0.368421052631579\n",
      "-0.26315789473684215\n",
      "-0.1578947368421053\n",
      "-0.052631578947368474\n",
      "0.05263157894736836\n",
      "0.1578947368421053\n",
      "0.26315789473684204\n",
      "0.36842105263157876\n",
      "0.4736842105263157\n",
      "0.5789473684210527\n",
      "0.6842105263157894\n",
      "0.7894736842105261\n",
      "0.894736842105263\n",
      "1.0\n"
     ]
    }
   ],
   "source": [
    "magnetization = []\n",
    "\n",
    "m = []\n",
    "h_list = [i for i in np.linspace(-1,1,20)]\n",
    "\n",
    "for h in h_list:\n",
    "    print(h)\n",
    "    m.append(numerical(J, h, N, T))\n"
   ]
  },
  {
   "cell_type": "code",
   "execution_count": 56,
   "metadata": {},
   "outputs": [
    {
     "data": {
      "text/plain": [
       "[<matplotlib.lines.Line2D at 0x117e4b5e0>]"
      ]
     },
     "execution_count": 56,
     "metadata": {},
     "output_type": "execute_result"
    },
    {
     "data": {
      "image/png": "[encoded data removed]",
      "text/plain": [
       "<Figure size 432x288 with 1 Axes>"
      ]
     },
     "metadata": {
      "needs_background": "light"
     },
     "output_type": "display_data"
    }
   ],
   "source": [
    "plt.plot(h_list, m)"
   ]
  },
  {
   "cell_type": "code",
   "execution_count": null,
   "metadata": {},
   "outputs": [],
   "source": []
  }
 ],
 "metadata": {
  "kernelspec": {
   "display_name": "Python 3",
   "language": "python",
   "name": "python3"
  },
  "language_info": {
   "codemirror_mode": {
    "name": "ipython",
    "version": 3
   },
   "file_extension": ".py",
   "mimetype": "text/x-python",
   "name": "python",
   "nbconvert_exporter": "python",
   "pygments_lexer": "ipython3",
   "version": "3.8.6"
  }
 },
 "nbformat": 4,
 "nbformat_minor": 4
}
