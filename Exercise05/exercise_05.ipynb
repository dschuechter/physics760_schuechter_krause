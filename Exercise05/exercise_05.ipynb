{
 "cells": [
  {
   "cell_type": "code",
   "execution_count": 1,
   "metadata": {},
   "outputs": [],
   "source": [
    "import numpy as np\n",
    "import matplotlib.pyplot as plt\n",
    "import scipy.special as sc\n",
    "from IPython.display import Markdown, display\n",
    "delta = 2\n",
    "N = 64\n",
    "beta = 1\n",
    "a = 1\n",
    "L = a*N\n",
    "nMeas = 1000\n",
    "nTherm = 500\n",
    "\n",
    "def printmd(string):\n",
    "    display(Markdown(string))\n",
    "\n",
    "    \n",
    "def gen_configuration(N):\n",
    "    config = np.random.uniform(-10,10,size=N)\n",
    "    config[0], config[N-1] = 0, 0\n",
    "    return config\n",
    "\n",
    "def Hamiltonian(config, N, a):\n",
    "    hamiltonian_sum = 0\n",
    "    for i in range(1, len(config)):\n",
    "        hamiltonian_sum += (config[i]-config[i-1])**2\n",
    "    return 1/a*hamiltonian_sum\n",
    "\n",
    "\n",
    "def Metropolis(config, delta, beta, a):\n",
    "    for i in range(0, N-1):\n",
    "        config_update = config.copy()\n",
    "        x = np.random.randint(1, N-1)\n",
    "        config_update[x]+=np.random.uniform(-1,1)*delta\n",
    "        if np.random.uniform(0,1)<=np.exp(-beta*(Hamiltonian(config_update, N, a)-Hamiltonian(config, N, a))):\n",
    "            config = config_update\n",
    "    \n",
    "    return config\n",
    "    \n",
    "def numerical():\n",
    "    config=gen_configuration(N)\n",
    "    m_observed = []\n",
    "    m_squared_observed = []\n",
    "    energy_observed = []\n",
    "    for i in range(nTherm):\n",
    "        config = Metropolis(config, delta, beta, a)\n",
    "    for i in range(nMeas):\n",
    "        config_meas = Metropolis(config, delta, beta, a).copy()\n",
    "        m_observed.append(a/L*np.sum(config_meas))\n",
    "        m_squared_observed.append(a/L*np.sum(np.array(config_meas)**2))\n",
    "        energy_observed.append(Hamiltonian(config_meas, N, a))\n",
    "    return np.mean(m_observed),np.mean(m_squared_observed), np.mean(energy_observed)"
   ]
  },
  {
   "cell_type": "code",
   "execution_count": 2,
   "metadata": {},
   "outputs": [
    {
     "data": {
      "text/markdown": [
       "$\\langle m_{num} \\rangle $=1.33598, $\\langle m_{analytical}\\rangle$=0.00000 "
      ],
      "text/plain": [
       "<IPython.core.display.Markdown object>"
      ]
     },
     "metadata": {},
     "output_type": "display_data"
    }
   ],
   "source": [
    "m_num, m_squared_num, energy_num = numerical()\n",
    "printmd(\"$\\langle m_{num} \\\\rangle $=%.5f, $\\langle m_{analytical}\\\\rangle$=%.5f \"%(m_num,0))"
   ]
  },
  {
   "cell_type": "code",
   "execution_count": 3,
   "metadata": {},
   "outputs": [],
   "source": [
    "config = gen_configuration(N+1)\n",
    "def fine_to_coarse(config):\n",
    "     return [config[i] for i in range(len(config)) if i%2==0]\n",
    "\n",
    "def linear_interpolation(config_coarse):\n",
    "    linear_interpolation_list = []\n",
    "    for i in range(len(config_coarse)):\n",
    "        linear_interpolation_list.append(config_coarse[i])\n",
    "        if i < len(config_coarse)-1: \n",
    "            linear_interpolation_list.append((config_coarse[i-1]+config_coarse[i+1])/2)\n",
    "    return linear_interpolation_list\n",
    "    \n",
    "def coarse_to_fine(config, config_coarse): \n",
    "    return np.array(config)+np.array(linear_interpolation(config_coarse))"
   ]
  },
  {
   "cell_type": "code",
   "execution_count": 4,
   "metadata": {},
   "outputs": [],
   "source": [
    "config_coarse = fine_to_coarse(config)\n",
    "config_interpol = coarse_to_fine(config, config_coarse)"
   ]
  },
  {
   "cell_type": "code",
   "execution_count": null,
   "metadata": {},
   "outputs": [],
   "source": []
  },
  {
   "cell_type": "code",
   "execution_count": null,
   "metadata": {},
   "outputs": [],
   "source": []
  }
 ],
 "metadata": {
  "kernelspec": {
   "display_name": "Python 3",
   "language": "python",
   "name": "python3"
  },
  "language_info": {
   "codemirror_mode": {
    "name": "ipython",
    "version": 3
   },
   "file_extension": ".py",
   "mimetype": "text/x-python",
   "name": "python",
   "nbconvert_exporter": "python",
   "pygments_lexer": "ipython3",
   "version": "3.8.6"
  }
 },
 "nbformat": 4,
 "nbformat_minor": 4
}
