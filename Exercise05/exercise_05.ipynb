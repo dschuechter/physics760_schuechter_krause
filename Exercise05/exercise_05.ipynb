{
 "cells": [
  {
   "cell_type": "markdown",
   "metadata": {},
   "source": [
    "# Multigrid simulation of the Gaussian model\n",
    "\n",
    "In this exercise we had to implement the multigrid technique to the simulation of the Gaussian model in 1 dimension.\n",
    "\n",
    "Since we couldn't get our head around the theory, we implemented what we could."
   ]
  },
  {
   "cell_type": "markdown",
   "metadata": {},
   "source": [
    "## Expactation values\n",
    "For the microscopic degree of freedom the real-valued field $u$ with the hamiltonian is given by:\n",
    "$$H_a(u)=1/a\\sum_{k=1}^{N}(u_i-u_{i-1})^2$$\n",
    "\n",
    "We use the *Dirichlet boundary conditions* for the field $u$:\n",
    "\\begin{align}\n",
    "    u(0)&=u_0=0\\\\\n",
    "    u(L)&=u_N=0\n",
    "\\end{align}\n",
    "\n",
    "For this problem, the partition sum is given by\n",
    "$$Z(\\beta, N, a)=\\prod_{i=1}^{N-1}\\int_{-\\infty}^\\infty du_i \\exp(-\\beta H_a)$$\n",
    "\n",
    "\n",
    "With the given fourier decomposition $u_l=\\sum_{k=1}^{N-1}c_k\\sin(k\\pi la/L)$ one can derive the hamiltonian $$H_a(u)=\\frac{2N}{a}\\sum_{k=1}^{N-1}c_k^2\\sin^2\\left(\\frac{k\\pi}{2N}\\right)$$\n",
    "\n",
    "*1. Based on the above Fourier decomposition determine the analytic formula for the\n",
    "expectation value 1 of*\n",
    "    \n",
    "- the magnetization, defined by $m=a/L\\sum_{i=1}^{N-1}u_i$\n",
    "- its square $m^2$ and\n",
    "- the energy / the Hamiltonian $H_a$\n",
    "\n",
    "### Magnetization $m$:\n",
    "The expectation value of the magnetization is:\n",
    "$$\\langle m\\rangle=0$$\n",
    "This is a direct consequence of the missing external magnetic field $h$\n",
    "### Square of $m$:\n",
    "                                                        ¯\\_(ツ)_/¯\n",
    "### Energy / Hamiltonian $H_a$:\n",
    "                                                        ¯\\_(ツ)_/¯\n",
    "\n",
    "\n",
    "## Implementation of the Metropolis-Hastings algorithm\n",
    "The algorithm works the following way:\n",
    "\n",
    "1. choose a site $x$ for update , $x$ ∼ $U({1,\\dots, N-1})$    \n",
    "2. propose new $u'(x) = u(x) + r \\delta$, with $r$ ∼ $U([−1, 1])$ and $\\delta$ a fixed scale parameter\n",
    "3. Metropolis accept / reject step\n",
    "\n",
    "*2. Implement the above version of the Metropolis-Hastings sweep. Test your algorithm\n",
    "by sampling with $\\delta= 2.$, $N = 64$, $\\beta = 1$. Perform a measurement of the magnetization and\n",
    "energy after each sweep. Compare to the analytic results for the expectation values.*"
   ]
  },
  {
   "cell_type": "code",
   "execution_count": 1,
   "metadata": {},
   "outputs": [],
   "source": [
    "import numpy as np\n",
    "import matplotlib.pyplot as plt\n",
    "import scipy.special as sc\n",
    "from IPython.display import Markdown, display\n",
    "delta = 2\n",
    "N = 64\n",
    "beta = 1\n",
    "a = 1\n",
    "L = a*N\n",
    "nMeas = 1000\n",
    "nTherm = 500\n",
    "\n",
    "def printmd(string): #Method to print fancy markdown text\n",
    "    display(Markdown(string))\n",
    "\n",
    "    \n",
    "def gen_configuration(N): #Method to generate a uniform configuration of size N\n",
    "    config = np.random.uniform(-10,10,size=N)\n",
    "    config[0], config[N-1] = 0, 0 # Apply dirichlet boundary conditions \n",
    "    return config\n",
    "\n",
    "def Hamiltonian(config, N, a): #Method to calculate the hamiltonian for a given config\n",
    "    hamiltonian_sum = 0\n",
    "    for i in range(1, len(config)):\n",
    "        hamiltonian_sum += (config[i]-config[i-1])**2\n",
    "    return 1/a*hamiltonian_sum\n",
    "\n",
    "\n",
    "def Metropolis(config, delta, beta, a): #Metropolis-Hasting-Algorithm\n",
    "    for i in range(0, N-1):\n",
    "        config_update = config.copy()\n",
    "        x = np.random.randint(1, N-1) #Step 1\n",
    "        config_update[x]+=np.random.uniform(-1,1)*delta # Step 2\n",
    "        if np.random.uniform(0,1)<=np.exp(-beta*(Hamiltonian(config_update, N, a)-Hamiltonian(config, N, a))): #Step 3\n",
    "            config = config_update\n",
    "\n",
    "    return config\n",
    "    \n",
    "def numerical(): #Method to generate the numerical results\n",
    "    config=gen_configuration(N) #generate config\n",
    "    m_observed = [] #generate lists to store measurements\n",
    "    m_squared_observed = []\n",
    "    energy_observed = []\n",
    "    for i in range(nTherm): #Do thermalization (if needed)\n",
    "        config = Metropolis(config, delta, beta, a)\n",
    "    for i in range(nMeas): #Do nMeas measurements\n",
    "        config_meas = Metropolis(config, delta, beta, a).copy()\n",
    "        m_observed.append(a/L*np.sum(config_meas))\n",
    "        m_squared_observed.append(a/L*np.sum(np.array(config_meas)**2))\n",
    "        energy_observed.append(Hamiltonian(config_meas, N, a))\n",
    "    return np.mean(m_observed),np.mean(m_squared_observed), np.mean(energy_observed)"
   ]
  },
  {
   "cell_type": "markdown",
   "metadata": {},
   "source": [
    "Print out the numerical and analytical results:"
   ]
  },
  {
   "cell_type": "code",
   "execution_count": 2,
   "metadata": {},
   "outputs": [
    {
     "data": {
      "text/markdown": [
       "$\\langle m_{num} \\rangle $=-0.11087, $\\langle m_{analytical}\\rangle$=0.00000 "
      ],
      "text/plain": [
       "<IPython.core.display.Markdown object>"
      ]
     },
     "metadata": {},
     "output_type": "display_data"
    },
    {
     "data": {
      "text/markdown": [
       "$\\langle m^2_{num} \\rangle $=1.65959, $\\langle m^2_{analytical}\\rangle$=¯\\_(ツ)_/¯ "
      ],
      "text/plain": [
       "<IPython.core.display.Markdown object>"
      ]
     },
     "metadata": {},
     "output_type": "display_data"
    },
    {
     "data": {
      "text/markdown": [
       "$\\langle E_{num} \\rangle $=31.13766, $\\langle E_{analytical}\\rangle$=¯\\_(ツ)_/¯ "
      ],
      "text/plain": [
       "<IPython.core.display.Markdown object>"
      ]
     },
     "metadata": {},
     "output_type": "display_data"
    }
   ],
   "source": [
    "m_num, m_squared_num, energy_num = numerical()\n",
    "printmd(\"$\\langle m_{num} \\\\rangle $=%.5f, $\\langle m_{analytical}\\\\rangle$=%.5f \"%(m_num,0))\n",
    "printmd(\"$\\langle m^2_{num} \\\\rangle $=%.5f, $\\langle m^2_{analytical}\\\\rangle$=%s \"%(m_squared_num,\"¯\\_(ツ)_/¯\"))\n",
    "printmd(\"$\\langle E_{num} \\\\rangle $=%.5f, $\\langle E_{analytical}\\\\rangle$=%s \"%(energy_num,\"¯\\_(ツ)_/¯\"))"
   ]
  },
  {
   "cell_type": "markdown",
   "metadata": {},
   "source": [
    "The numerical result of $\\langle m_{num} \\rangle$ is bigger than the analytical value"
   ]
  },
  {
   "cell_type": "markdown",
   "metadata": {},
   "source": [
    "## Multigrid algorithm"
   ]
  },
  {
   "cell_type": "markdown",
   "metadata": {},
   "source": [
    "From now on the following Hamiltonian shall be considered:\n",
    "$$H_a(u)=\\frac{1}{a}\\sum_{i=1}^N (u_i-u_{i-1})^2+a\\sum_{i=1}^{N-1}\\phi_i^{(a)}u_i$$\n",
    "with an external field $\\phi^{(a)}$. The prolongation $u^{(a)}=\\tilde{u}^{(a)}+I_{(2a)}^{(a)}u^{(2a)}_i$ leads to a decomposition\n",
    "\n",
    "$$H_a\\left(u^{(a)}\\right)=H_a\\left(\\tilde{u}^{(a)}\\right)+H_{2a}\\left(u^{(2a)}\\right)$$\n",
    "$$H_{2a}\\left(u^{(2a)}\\right)=\\frac{1}{2a}\\sum_{i=1}^{N/2}\\left(u_i^{(2a)}-u_{i-1}^{(2a)}\\right)^2+2a\\sum_{i=1}^{N/2-1}\\phi_i^{(2a)}u_i^{(2a)}$$\n",
    "\n",
    "*3. Give the explicit form of $\\phi^{(2a)}$: how does the coarse-level external field $\\phi^{(2a)}$ depend\n",
    "on the fine-level fields ? Implement the restriction and prolongation functions.*\n",
    "\n",
    "The explicit form of $\\phi^{(2a)}$ is given as:\n",
    "$$\\phi^{(2a)}=\\frac{1}{4}\\left(\\phi_{2i-1}^{(a)}+2\\phi_{2i}^{(a)}+\\phi_{2i+1}^{(a)}\\right)$$"
   ]
  },
  {
   "cell_type": "markdown",
   "metadata": {},
   "source": [
    "### Implementation of the restriction and prolongation functions"
   ]
  },
  {
   "cell_type": "code",
   "execution_count": 3,
   "metadata": {},
   "outputs": [],
   "source": [
    "config = gen_configuration(N+1)\n",
    "def fine_to_coarse(config): #restriction function\n",
    "     return [config[i] for i in range(len(config)) if i%2==0]\n",
    "\n",
    "def linear_interpolation(config_coarse): #Method for linear interpolation\n",
    "    linear_interpolation_list = []\n",
    "    for i in range(len(config_coarse)):\n",
    "        linear_interpolation_list.append(config_coarse[i])\n",
    "        if i < len(config_coarse)-1: \n",
    "            linear_interpolation_list.append((config_coarse[i-1]+config_coarse[i+1])/2)\n",
    "    return linear_interpolation_list\n",
    "    \n",
    "def coarse_to_fine(config, config_coarse): #prolongation function\n",
    "    return np.array(config)+np.array(linear_interpolation(config_coarse))"
   ]
  },
  {
   "cell_type": "code",
   "execution_count": 4,
   "metadata": {},
   "outputs": [],
   "source": [
    "config_coarse = fine_to_coarse(config)\n",
    "config_interpol = coarse_to_fine(config, config_coarse)"
   ]
  }
 ],
 "metadata": {
  "kernelspec": {
   "display_name": "Python 3",
   "language": "python",
   "name": "python3"
  },
  "language_info": {
   "codemirror_mode": {
    "name": "ipython",
    "version": 3
   },
   "file_extension": ".py",
   "mimetype": "text/x-python",
   "name": "python",
   "nbconvert_exporter": "python",
   "pygments_lexer": "ipython3",
   "version": "3.8.6"
  }
 },
 "nbformat": 4,
 "nbformat_minor": 4
}
