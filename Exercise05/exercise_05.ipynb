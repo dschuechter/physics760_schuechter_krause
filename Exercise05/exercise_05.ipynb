{
 "cells": [
  {
   "cell_type": "code",
   "execution_count": 1,
   "metadata": {},
   "outputs": [],
   "source": [
    "import numpy as np\n",
    "import matplotlib.pyplot as plt\n",
    "import scipy.special as sc\n",
    "from IPython.display import Markdown, display\n",
    "delta = 2\n",
    "N = 64\n",
    "beta = 1\n",
    "a = 0.1\n",
    "L = a*N\n",
    "nMeas = 1000\n",
    "\n",
    "def gen_configuration(N):\n",
    "    config = np.random.uniform(-1,1,size=N)\n",
    "    config[0], config[N-1] = 0, 0\n",
    "    return config\n",
    "\n",
    "def Hamiltonian(config, N, a):\n",
    "    hamiltonian_sum = 0\n",
    "    for i in range(1, len(config)):\n",
    "        hamiltonian_sum += (config[i]-config[i-1])**2\n",
    "    return 1/a*hamiltonian_sum\n",
    "\n",
    "\n",
    "def Metropolis(config, delta, beta, a):\n",
    "    for i in range(0, N-1):\n",
    "        config_update = config.copy()\n",
    "        x = np.random.randint(1, N-1)\n",
    "        config_update[x]+=np.random.uniform(-1,1)*delta\n",
    "        if np.random.uniform(0,1)<=np.exp(-beta*(Hamiltonian(config_update, N, a)-Hamiltonian(config, N, a))):\n",
    "            config = config_update\n",
    "    \n",
    "    return config\n",
    "    \n",
    "def numerical():\n",
    "    config=gen_configuration(N)\n",
    "    m_observed = []\n",
    "    m_squared_observed = []\n",
    "    energy_observed = []\n",
    "    for i in range(nMeas):\n",
    "        config_meas = Metropolis(config, delta, beta, a).copy()\n",
    "        m_observed.append(a/L*np.sum(config_meas))\n",
    "        m_squared_observed.append(a/L*np.sum(np.array(config_meas)**2))\n",
    "        energy_observed.append(Hamiltonian(config_meas, N, a))\n",
    "    return np.mean(m_observed),np.mean(m_squared_observed), np.mean(energy_observed)"
   ]
  },
  {
   "cell_type": "code",
   "execution_count": 2,
   "metadata": {},
   "outputs": [
    {
     "data": {
      "text/plain": [
       "(-0.08323468008346097, 0.2539152198503957, 250.97190570514388)"
      ]
     },
     "execution_count": 2,
     "metadata": {},
     "output_type": "execute_result"
    }
   ],
   "source": [
    "numerical()"
   ]
  },
  {
   "cell_type": "code",
   "execution_count": null,
   "metadata": {},
   "outputs": [],
   "source": []
  }
 ],
 "metadata": {
  "kernelspec": {
   "display_name": "Python 3",
   "language": "python",
   "name": "python3"
  },
  "language_info": {
   "codemirror_mode": {
    "name": "ipython",
    "version": 3
   },
   "file_extension": ".py",
   "mimetype": "text/x-python",
   "name": "python",
   "nbconvert_exporter": "python",
   "pygments_lexer": "ipython3",
   "version": "3.8.6"
  }
 },
 "nbformat": 4,
 "nbformat_minor": 4
}
