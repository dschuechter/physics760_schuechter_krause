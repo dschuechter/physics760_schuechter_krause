{
 "cells": [
  {
   "cell_type": "markdown",
   "metadata": {},
   "source": [
    "# Two body scattering"
   ]
  },
  {
   "cell_type": "code",
   "execution_count": 1,
   "metadata": {},
   "outputs": [
    {
     "data": {
      "text/html": [
       "<style>.container { width:100% !important; }</style>"
      ],
      "text/plain": [
       "<IPython.core.display.HTML object>"
      ]
     },
     "metadata": {},
     "output_type": "display_data"
    }
   ],
   "source": [
    "from IPython.core.display import display, HTML\n",
    "\n",
    "display(HTML(\"<style>.container { width:100% !important; }</style>\"))\n",
    "import pandas as pd\n",
    "import numpy as np\n",
    "import math as m\n",
    "from numpy.polynomial.legendre import leggauss\n",
    "from scipy.special import legendre\n",
    "from scipy.special import sph_harm\n",
    "from scipy.interpolate import interp1d\n",
    "from functions import * #Import the functions given in the lecture  \n",
    "import matplotlib.pyplot as plt"
   ]
  },
  {
   "cell_type": "code",
   "execution_count": 2,
   "metadata": {},
   "outputs": [
    {
     "name": "stderr",
     "output_type": "stream",
     "text": [
      "<ipython-input-2-3657cf72dda7>:12: RuntimeWarning: invalid value encountered in sqrt\n",
      "  q = np.sqrt(2*mu*E)\n"
     ]
    }
   ],
   "source": [
    "data = np.genfromtxt('wf-obe-lam=800.00.dat', delimiter=';')\n",
    "p = np.array(data[:,0])\n",
    "w = np.array(data[:,1])\n",
    "\n",
    "Lambda = 800\n",
    "C0 = 2.470795e-02\n",
    "hbarc = 197.327\n",
    "E = -2.225/hbarc\n",
    "mu =  938.92/hbarc\n",
    "A = -0.1544435 \n",
    "m_B = 138/hbarc\n",
    "q = np.sqrt(2*mu*E) ###Complex?"
   ]
  },
  {
   "cell_type": "code",
   "execution_count": 3,
   "metadata": {},
   "outputs": [],
   "source": [
    "def delta(i,j):\n",
    "    if i==j:\n",
    "        return 1\n",
    "    else:\n",
    "        return 0\n",
    "\n",
    "def V_matrix(i,j):\n",
    "    return A/(2*np.pi)*1/((p[i]-p[j])**2+m_B**2)*np.exp(-((p[i]-p[j])**2+m_B**2)/Lambda**2)+C0/(4*np.pi)*exp(-(p[i]**2+p[j]**2)/Lambda**2)\n",
    "\n",
    "def A_matrix(i,j,k,N, p_max):\n",
    "    if k != N:\n",
    "        return delta(j,k)-2*mu*V_matrix(p[i],p[k])*p[k]**2*w[k]/(q**2-p[k]**2)\n",
    "    else:\n",
    "        return delta(j,k)+np.sum(2*mu*V_matrix(p[i],p[N])*q**2*w/(q**2-p**2))-mu*q*V_matrix(p[i],p[N])*np.log((p_max+q)/(p_max-q))+i*np.pi*mu*q*V_matrix(p[i],p[N])\n",
    "    \n",
    "\n",
    "    def t_matrix(i,j,k,N,p_max):\n",
    "        return V_matrix(i,j)/A_matrix(i,j,k,N,p_max)"
   ]
  },
  {
   "cell_type": "code",
   "execution_count": null,
   "metadata": {},
   "outputs": [],
   "source": []
  }
 ],
 "metadata": {
  "kernelspec": {
   "display_name": "Python 3",
   "language": "python",
   "name": "python3"
  },
  "language_info": {
   "codemirror_mode": {
    "name": "ipython",
    "version": 3
   },
   "file_extension": ".py",
   "mimetype": "text/x-python",
   "name": "python",
   "nbconvert_exporter": "python",
   "pygments_lexer": "ipython3",
   "version": "3.8.6"
  }
 },
 "nbformat": 4,
 "nbformat_minor": 4
}
