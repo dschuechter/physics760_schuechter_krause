{
 "cells": [
  {
   "cell_type": "markdown",
   "metadata": {},
   "source": [
    "# Two body scattering"
   ]
  },
  {
   "cell_type": "code",
   "execution_count": 1,
   "metadata": {},
   "outputs": [
    {
     "data": {
      "text/html": [
       "<style>.container { width:100% !important; }</style>"
      ],
      "text/plain": [
       "<IPython.core.display.HTML object>"
      ]
     },
     "metadata": {},
     "output_type": "display_data"
    }
   ],
   "source": [
    "from IPython.core.display import display, HTML\n",
    "\n",
    "display(HTML(\"<style>.container { width:100% !important; }</style>\"))\n",
    "import pandas as pd\n",
    "import numpy as np\n",
    "import math as m\n",
    "from numpy.polynomial.legendre import leggauss\n",
    "from scipy.special import legendre\n",
    "from scipy.special import sph_harm\n",
    "from scipy.interpolate import interp1d\n",
    "from functions import * #Import the functions given in the lecture  \n",
    "import matplotlib.pyplot as plt"
   ]
  },
  {
   "cell_type": "code",
   "execution_count": 2,
   "metadata": {},
   "outputs": [],
   "source": [
    "data = np.genfromtxt('wf-obe-lam=800.00.dat', delimiter=';')\n",
    "\n",
    "\n",
    "Lambda = 800\n",
    "C0 = 2.470795e-02\n",
    "hbarc = 197.327\n",
    "E = -2.225/hbarc\n",
    "mu =  938.92/hbarc\n",
    "A = -0.1544435 \n",
    "m_B = 138\n",
    "p = np.array(data[:,0])\n",
    "p = np.append(p,0)\n",
    "p_max = p[-2]\n",
    "w = np.array(data[:,1])\n",
    "w = np.append(w,0)\n",
    "pot=OBEpot(nx=20,mpi=m_B,C0=C0,A=A,cutoff=Lambda)\n"
   ]
  },
  {
   "cell_type": "code",
   "execution_count": 13,
   "metadata": {},
   "outputs": [],
   "source": [
    "def delta(i,j):\n",
    "    if i==j:\n",
    "        return 1\n",
    "    else:\n",
    "        return 0\n",
    "def V_matrix(i,j,l):\n",
    "    return pot.v(p[i],p[j],l)\n",
    "    \n",
    "def A_matrix(i,k,N,p_max,q,l):\n",
    "    if k != N:\n",
    "        return delta(i,k)-2*mu*V_matrix(i,k,l)*p[k]**2*w[k]/(q**2-p[k]**2)\n",
    "    else:\n",
    "        return delta(i,k)+np.sum(2*mu*V_matrix(i,N,l)*q**2*w[:-1]/(q**2-p[:-1]**2))-mu*q*V_matrix(i,N,l)*np.log((p_max+q)/(p_max-q))+1j*np.pi*mu*q*V_matrix(i,N,l)\n",
    "    \n",
    "\n",
    "\n",
    "def gen_matrices(N,q,l):\n",
    "    p[-1] = q\n",
    "    A_mat = []\n",
    "    V_mat = []\n",
    "    for i in range(N):\n",
    "        A_mat.append([])\n",
    "        V_mat.append([])\n",
    "        for j in range(N):\n",
    "            A_mat[i].append(A_matrix(i,j,N-1,p_max,q,l))\n",
    "            V_mat[i].append(V_matrix(i,j,l))\n",
    "    return A_mat, V_mat\n",
    "\n",
    "def t_matrix(q,l):\n",
    "    A_mat, V_mat = gen_matrices(len(p),q,l)\n",
    "    return np.linalg.solve(A_mat, V_mat)\n",
    "\n",
    "def S_matrix(q,l):\n",
    "    return 1-2*1j*np.pi*mu*q*t_matrix(q,l)[-1][-1]"
   ]
  },
  {
   "cell_type": "code",
   "execution_count": 14,
   "metadata": {},
   "outputs": [
    {
     "data": {
      "text/plain": [
       "0.9999999999999997"
      ]
     },
     "execution_count": 14,
     "metadata": {},
     "output_type": "execute_result"
    }
   ],
   "source": [
    "t_mat = t_matrix(1,0)\n",
    "np.abs(S_matrix(1,0))"
   ]
  },
  {
   "cell_type": "code",
   "execution_count": 17,
   "metadata": {},
   "outputs": [
    {
     "data": {
      "image/png": "[encoded data removed]",
      "text/plain": [
       "<Figure size 720x360 with 1 Axes>"
      ]
     },
     "metadata": {
      "needs_background": "light"
     },
     "output_type": "display_data"
    }
   ],
   "source": [
    "beauty_plot()\n",
    "E_list = np.linspace(0,500,50)/hbarc\n",
    "q_list = np.sqrt(np.array(E_list)*mu*2)\n",
    "phase_shift = []\n",
    "counter=0\n",
    "for q in q_list:\n",
    "    counter+=1\n",
    "    phase_shift.append(np.real(-0.5*1j*np.log(S_matrix(q,0)))*180/np.pi)\n",
    "    if phase_shift[-1]<0 or q<0.5:\n",
    "        phase_shift[-1]=phase_shift[-1]+180\n",
    "\n",
    "plt.scatter(E_list*hbarc,(np.array(phase_shift)), label = \"$\\Lambda=%d$ MeV\"%(Lambda))\n",
    "plt.xlabel(\"$E$ / MeV\")\n",
    "plt.ylabel(\"$\\delta_l(q)$ / Degree\")\n",
    "plt.legend()\n",
    "plt.show()"
   ]
  },
  {
   "cell_type": "code",
   "execution_count": null,
   "metadata": {},
   "outputs": [],
   "source": []
  },
  {
   "cell_type": "code",
   "execution_count": null,
   "metadata": {},
   "outputs": [],
   "source": []
  }
 ],
 "metadata": {
  "kernelspec": {
   "display_name": "Python 3",
   "language": "python",
   "name": "python3"
  },
  "language_info": {
   "codemirror_mode": {
    "name": "ipython",
    "version": 3
   },
   "file_extension": ".py",
   "mimetype": "text/x-python",
   "name": "python",
   "nbconvert_exporter": "python",
   "pygments_lexer": "ipython3",
   "version": "3.8.6"
  }
 },
 "nbformat": 4,
 "nbformat_minor": 4
}
