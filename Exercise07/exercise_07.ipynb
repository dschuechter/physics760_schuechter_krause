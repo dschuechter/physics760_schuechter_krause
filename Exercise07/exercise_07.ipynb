{
 "cells": [
  {
   "cell_type": "markdown",
   "metadata": {},
   "source": [
    "# Two body scattering"
   ]
  },
  {
   "cell_type": "code",
   "execution_count": 7,
   "metadata": {},
   "outputs": [
    {
     "data": {
      "text/html": [
       "<style>.container { width:100% !important; }</style>"
      ],
      "text/plain": [
       "<IPython.core.display.HTML object>"
      ]
     },
     "metadata": {},
     "output_type": "display_data"
    }
   ],
   "source": [
    "from IPython.core.display import display, HTML\n",
    "\n",
    "display(HTML(\"<style>.container { width:100% !important; }</style>\"))\n",
    "import pandas as pd\n",
    "import numpy as np\n",
    "import math as m\n",
    "from numpy.polynomial.legendre import leggauss\n",
    "from scipy.special import legendre\n",
    "from scipy.special import sph_harm\n",
    "from scipy.interpolate import interp1d\n",
    "from functions import * #Import the functions given in the lecture  \n",
    "import matplotlib.pyplot as plt"
   ]
  },
  {
   "cell_type": "code",
   "execution_count": 8,
   "metadata": {},
   "outputs": [],
   "source": [
    "data = np.genfromtxt('wf-obe-lam=800.00.dat', delimiter=';')\n",
    "\n",
    "\n",
    "Lambda = 800\n",
    "C0 = 2.470795e-02\n",
    "hbarc = 197.327\n",
    "E = -2.225/hbarc\n",
    "mu =  938.92/hbarc\n",
    "A = -0.1544435 \n",
    "m_B = 138/hbarc\n",
    "q = np.sqrt(-2*mu*E) ###Complex?\n",
    "p = np.array(data[:,0])\n",
    "p = np.append(p,q)\n",
    "p_max = p[-2]\n",
    "w = np.array(data[:,1])\n",
    "w = np.append(w,0)"
   ]
  },
  {
   "cell_type": "code",
   "execution_count": 9,
   "metadata": {},
   "outputs": [],
   "source": [
    "def delta(i,j):\n",
    "    if i==j:\n",
    "        return 1\n",
    "    else:\n",
    "        return 0\n",
    "\n",
    "def V_matrix(i,j,q):\n",
    "    return A/(2*np.pi)*1/((p[i]-p[j])**2+m_B**2)*np.exp(-((p[i]-p[j])**2+m_B**2)/Lambda**2)+C0/(4*np.pi)*np.exp(-(p[i]**2+p[j]**2)/Lambda**2)\n",
    "\n",
    "def A_matrix(i,k,N,p_max,q):\n",
    "    if k != N:\n",
    "        return delta(i,k)-2*mu*V_matrix(i,k,q)*p[k]**2*w[k]/(q**2-p[k]**2)\n",
    "    else:\n",
    "        return delta(i,k)+np.sum(2*mu*V_matrix(i,N,q)*q**2*w[:-1]/(q**2-p[:-1]**2))-mu*q*V_matrix(i,N,q)*np.log((p_max+q)/(p_max-q))+i*np.pi*mu*q*V_matrix(i,N,q)\n",
    "    \n",
    "\n",
    "\n",
    "def gen_matrices(N,q):\n",
    "    A_mat = []\n",
    "    V_mat = []\n",
    "    for i in range(N):\n",
    "        A_mat.append([])\n",
    "        V_mat.append([])\n",
    "        for j in range(N):\n",
    "            A_mat[i].append(A_matrix(i,j,N-1,p_max,q))\n",
    "            V_mat[i].append(V_matrix(i,j,q))\n",
    "    return A_mat, V_mat\n",
    "\n",
    "def t_matrix(q):\n",
    "    A_mat, V_mat = gen_matrices(len(p),q)\n",
    "    return np.linalg.solve(A_mat, V_mat)\n",
    "\n",
    "def S_matrix(q):\n",
    "    return 1-2*1j*np.pi*mu*q*t_matrix(q)[-1][-1]"
   ]
  },
  {
   "cell_type": "code",
   "execution_count": 12,
   "metadata": {},
   "outputs": [
    {
     "data": {
      "text/plain": [
       "1.0004004982618317"
      ]
     },
     "execution_count": 12,
     "metadata": {},
     "output_type": "execute_result"
    }
   ],
   "source": [
    "t_mat = t_matrix(q)\n",
    "np.abs(S_matrix(1))"
   ]
  },
  {
   "cell_type": "code",
   "execution_count": null,
   "metadata": {},
   "outputs": [],
   "source": [
    "beauty_plot()\n",
    "E_list = np.linspace(0,201,500)/hbarc\n",
    "q_list = np.sqrt(E_list*2*mu)\n",
    "phase_shift = []\n",
    "for q in q_list:\n",
    "    phase_shift.append(np.angle(S_matrix(q))/2)\n",
    "plt.plot(q_list, np.abs(np.array(phase_shift)*2*360/np.pi))\n",
    "plt.xlabel(\"$q$ / fm$^{-1}$\")\n",
    "plt.ylabel(\"$\\delta_l(q)$ / Degree\")\n",
    "plt.legend()\n",
    "plt.show()"
   ]
  },
  {
   "cell_type": "code",
   "execution_count": 38,
   "metadata": {},
   "outputs": [
    {
     "name": "stderr",
     "output_type": "stream",
     "text": [
      "<ipython-input-38-7d1dd5a5951a>:2: RuntimeWarning: divide by zero encountered in true_divide\n",
      "  plt.scatter(phase_shift, 1/np.tan(phase_shift))\n"
     ]
    },
    {
     "data": {
      "image/png": "[encoded data removed]",
      "text/plain": [
       "<Figure size 720x360 with 1 Axes>"
      ]
     },
     "metadata": {
      "needs_background": "light"
     },
     "output_type": "display_data"
    }
   ],
   "source": [
    "beauty_plot()\n",
    "plt.scatter(phase_shift, 1/np.tan(phase_shift))\n",
    "plt.show()"
   ]
  }
 ],
 "metadata": {
  "kernelspec": {
   "display_name": "Python 3",
   "language": "python",
   "name": "python3"
  },
  "language_info": {
   "codemirror_mode": {
    "name": "ipython",
    "version": 3
   },
   "file_extension": ".py",
   "mimetype": "text/x-python",
   "name": "python",
   "nbconvert_exporter": "python",
   "pygments_lexer": "ipython3",
   "version": "3.8.6"
  }
 },
 "nbformat": 4,
 "nbformat_minor": 4
}
