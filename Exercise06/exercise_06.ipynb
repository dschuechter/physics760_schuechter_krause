{
 "cells": [
  {
   "cell_type": "markdown",
   "metadata": {},
   "source": [
    "# Form factor of a two-boson bound state"
   ]
  },
  {
   "cell_type": "code",
   "execution_count": 1,
   "metadata": {},
   "outputs": [
    {
     "data": {
      "text/html": [
       "<style>.container { width:100% !important; }</style>"
      ],
      "text/plain": [
       "<IPython.core.display.HTML object>"
      ]
     },
     "metadata": {},
     "output_type": "display_data"
    }
   ],
   "source": [
    "from IPython.core.display import display, HTML\n",
    "display(HTML(\"<style>.container { width:100% !important; }</style>\"))\n",
    "\n",
    "import numpy as np\n",
    "import math as m\n",
    "from numpy.polynomial.legendre import leggauss\n",
    "from scipy.special import legendre\n",
    "from functions import * #Import the functions given in the lecture     \n",
    "import matplotlib.pyplot as plt\n"
   ]
  },
  {
   "cell_type": "code",
   "execution_count": 2,
   "metadata": {},
   "outputs": [],
   "source": [
    "hbarc = 197.327 \n",
    "Lambda = [300+i*100 for i in range(0, 10)]\n",
    "C0 = [-9.827953*1e-2, -2.820315*1e-02,  -4.221894*1e-04, 1.285743*1e-02,\n",
    "      2.016719*1e-02,  2.470795*1e-02, 2.786520*1e-02,  3.030801*1e-02,\n",
    "     3.239034*1e-02,  3.431611*1e-02]\n",
    "nx =20\n",
    "mpi = 138\n",
    "A = -0.1544435\n",
    "E = -2.225/hbarc\n",
    "neigv = 1\n",
    "cutoff=Lambda\n"
   ]
  },
  {
   "cell_type": "code",
   "execution_count": null,
   "metadata": {},
   "outputs": [],
   "source": [
    "beauty_plot()\n",
    "plt.xlim(0,8)\n",
    "plt.ylim(1E-6,15)\n",
    "p_list = []\n",
    "psi_list = []\n",
    "for i in range(len(Lambda)):\n",
    "    pot = OBEpot(nx=nx,mpi=mpi,C0=C0[i],A=A,cutoff=Lambda[i])\n",
    "    solver=TwoBody(pot=pot,np1=40,np2=20,pa=1.0,pb=7.0,pc=35.0,mred=938.92/2,l=0,\n",
    "                            nr1=40, nr2=20, ra=1.0, rb=5.0, rc=20.0, \n",
    "                            np1four=400,np2four=200)\n",
    "    p_list.append(solver.eigv(E, neigv)[1])\n",
    "    psi_list.append(solver.eigv(E, neigv)[-1])\n",
    "    plt.plot(p_list[i],np.abs(psi_list[i]), label=\"$\\Lambda=%d$ / MeV\"%(Lambda[i]))\n",
    "plt.yscale('log')\n",
    "plt.tick_params(axis='y', which='minor')\n",
    "plt.xlabel(\"$p$ / fm$^{-1}$\")\n",
    "plt.ylabel('$|\\psi(p)|$ / fm$^{3/2}$')\n",
    "plt.legend(bbox_to_anchor=(1,0.0), ncol=2)\n",
    "plt.show()"
   ]
  },
  {
   "cell_type": "code",
   "execution_count": 21,
   "metadata": {},
   "outputs": [],
   "source": [
    "def spherical_harmonics(m,n,theta,phi):\n",
    "    return scipy.special.sph_harm(m,n,phi,theta)\n",
    "\n",
    "def Formfactor(q):\n",
    "    theta = np.cos(np.arctan())\n",
    "    return 2*np.pi"
   ]
  },
  {
   "cell_type": "code",
   "execution_count": null,
   "metadata": {},
   "outputs": [],
   "source": []
  },
  {
   "cell_type": "code",
   "execution_count": null,
   "metadata": {},
   "outputs": [],
   "source": []
  }
 ],
 "metadata": {
  "kernelspec": {
   "display_name": "Python 3",
   "language": "python",
   "name": "python3"
  },
  "language_info": {
   "codemirror_mode": {
    "name": "ipython",
    "version": 3
   },
   "file_extension": ".py",
   "mimetype": "text/x-python",
   "name": "python",
   "nbconvert_exporter": "python",
   "pygments_lexer": "ipython3",
   "version": "3.8.6"
  }
 },
 "nbformat": 4,
 "nbformat_minor": 4
}
