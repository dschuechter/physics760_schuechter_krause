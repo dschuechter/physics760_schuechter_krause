{
 "cells": [
  {
   "cell_type": "markdown",
   "metadata": {},
   "source": [
    "# Form factor of a two-boson bound state"
   ]
  },
  {
   "cell_type": "code",
   "execution_count": 1,
   "metadata": {},
   "outputs": [
    {
     "data": {
      "text/html": [
       "<style>.container { width:100% !important; }</style>"
      ],
      "text/plain": [
       "<IPython.core.display.HTML object>"
      ]
     },
     "metadata": {},
     "output_type": "display_data"
    }
   ],
   "source": [
    "from IPython.core.display import display, HTML\n",
    "display(HTML(\"<style>.container { width:100% !important; }</style>\"))\n",
    "\n",
    "import numpy as np\n",
    "import math as m\n",
    "from numpy.polynomial.legendre import leggauss\n",
    "from scipy.special import legendre\n",
    "from functions import * #Import the functions given in the lecture\n",
    "        "
   ]
  },
  {
   "cell_type": "code",
   "execution_count": 46,
   "metadata": {},
   "outputs": [],
   "source": [
    "Lambda = [300+i*100 for i in range(0, 10)]\n",
    "C0 = [-9.827953*1e-2, -2.820315*1e-02,  -4.221894*1e-04, 1.285743*1e-02,\n",
    "      2.016719*1e-02,  2.470795*1e-02, 2.786520*1e-02,  3.030801*1e-02,\n",
    "     3.239034*1e-02,  3.431611*1e-02]\n",
    "nx =20\n",
    "mpi = 138\n",
    "A = -0.1544435\n",
    "E = -2.225*5.06*1e-3\n",
    "neigv = 1\n",
    "cutoff=Lambda\n",
    "pot = OBEpot(nx=nx,mpi=mpi,C0=C0[0],A=A,cutoff=Lambda[0])\n",
    "solver=TwoBody(pot=pot, np1=40,np2=20,pa=1.0,pb=7.0,pc=8.0,mred=938.92/2,l=0,\n",
    "                            nr1=40, nr2=20, ra=1.0, rb=5.0, rc=20.0, \n",
    "                            np1four=400,np2four=200)"
   ]
  },
  {
   "cell_type": "code",
   "execution_count": 47,
   "metadata": {},
   "outputs": [
    {
     "data": {
      "image/png": "[encoded data removed]",
      "text/plain": [
       "<Figure size 432x288 with 1 Axes>"
      ]
     },
     "metadata": {
      "needs_background": "light"
     },
     "output_type": "display_data"
    }
   ],
   "source": [
    "import matplotlib.pyplot as plt\n",
    "\n",
    "plt.plot(solver.eigv(E, neigv)[1],solver.eigv(E, neigv)[-1])\n",
    "plt.yscale('log')\n"
   ]
  },
  {
   "cell_type": "code",
   "execution_count": 41,
   "metadata": {},
   "outputs": [
    {
     "data": {
      "text/plain": [
       "array([1.38310531e+01+0.j, 1.38233629e+01+0.j, 1.37829694e+01+0.j,\n",
       "       1.36643380e+01+0.j, 1.34043611e+01+0.j, 1.29317391e+01+0.j,\n",
       "       1.21864132e+01+0.j, 1.11465130e+01+0.j, 9.85012972e+00+0.j,\n",
       "       8.39456916e+00+0.j, 6.90774339e+00+0.j, 5.50774241e+00+0.j,\n",
       "       4.27423544e+00+0.j, 3.24214677e+00+0.j, 2.41149406e+00+0.j,\n",
       "       1.76204253e+00+0.j, 1.26540118e+00+0.j, 8.92477480e-01+0.j,\n",
       "       6.17074801e-01+0.j, 4.17102793e-01+0.j, 2.74587543e-01+0.j,\n",
       "       1.75201982e-01+0.j, 1.07677418e-01+0.j, 6.32449199e-02+0.j,\n",
       "       3.51525944e-02+0.j, 1.82654992e-02+0.j, 8.74407830e-03+0.j,\n",
       "       3.79300233e-03+0.j, 1.46509693e-03+0.j, 4.96150775e-04+0.j,\n",
       "       1.46007927e-04+0.j, 3.75109189e-05+0.j, 8.62072084e-06+0.j,\n",
       "       1.85232907e-06+0.j, 3.93259160e-07+0.j, 8.75362180e-08+0.j,\n",
       "       2.18691850e-08+0.j, 6.66134594e-09+0.j, 2.70816946e-09+0.j,\n",
       "       1.59267476e-09+0.j, 1.00373267e-09+0.j, 2.41433200e-10+0.j,\n",
       "       1.87751325e-11+0.j, 4.89206166e-13+0.j, 4.52233232e-15+0.j,\n",
       "       1.57491794e-17+0.j, 2.26767156e-20+0.j, 1.50042494e-23+0.j,\n",
       "       5.11792266e-27+0.j, 1.03572411e-30+0.j, 1.46290599e-34+0.j,\n",
       "       1.73859308e-38+0.j, 2.13617730e-42+0.j, 3.45038970e-46+0.j,\n",
       "       9.70999576e-50+0.j, 6.08515956e-53+0.j, 1.03768552e-55+0.j,\n",
       "       6.40900291e-58+0.j, 1.65288171e-59+0.j, 2.07736987e-60+0.j])"
      ]
     },
     "execution_count": 41,
     "metadata": {},
     "output_type": "execute_result"
    }
   ],
   "source": [
    "solver.eigv(E, neigv)[-1]"
   ]
  },
  {
   "cell_type": "code",
   "execution_count": null,
   "metadata": {},
   "outputs": [],
   "source": []
  }
 ],
 "metadata": {
  "kernelspec": {
   "display_name": "Python 3",
   "language": "python",
   "name": "python3"
  },
  "language_info": {
   "codemirror_mode": {
    "name": "ipython",
    "version": 3
   },
   "file_extension": ".py",
   "mimetype": "text/x-python",
   "name": "python",
   "nbconvert_exporter": "python",
   "pygments_lexer": "ipython3",
   "version": "3.8.6"
  }
 },
 "nbformat": 4,
 "nbformat_minor": 4
}
