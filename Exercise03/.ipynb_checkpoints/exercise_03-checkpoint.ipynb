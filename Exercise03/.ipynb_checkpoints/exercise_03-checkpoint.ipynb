{
 "cells": [
  {
   "cell_type": "markdown",
   "metadata": {},
   "source": [
    "# Applying Hybrid Monte-Carlo (HMC) to the long range Ising model\n",
    "A Hybrid Monte-Carlo algorithm is used to study the dynamics of a long range 2d spin lattice and compared with analytically obtained results. Also a leap-frog integration is implemented in the process of the HMC algorithm. Bootstrap methods are used for error analysis of computed observables. \n",
    "\n",
    "## Theory\n",
    "*The expectation value of some operator $O$ is given by\n",
    "$$\\langle O \\rangle = \\frac{1}{Z}\\int \\text{d}\\phi O[\\phi]e^{-S[\\phi]}$$ Use the expression above and the fact that the mean magnetization (per site) and energy (per\n",
    "site) are given by $$\\langle m\\rangle=\\frac{T}{N}\\frac{\\partial\\log Z}{\\partial h },$$\n",
    "$$\\langle \\varepsilon\\rangle-\\frac{1}{N}\\frac{\\partial\\log Z}{\\partial \\beta }$$\n",
    "to derive corresponding expressions for $O[\\phi]$ for these quantities.*\n",
    "\n",
    "Doing the math yields:\n",
    "$$m[\\phi]=\\frac{1}{\\sqrt{2\\pi\\beta J}}\\tanh{(\\beta h \\pm \\phi)}$$\n",
    "$$\\varepsilon[\\phi]=-\\frac{1}{\\sqrt{2\\pi\\beta J}N}\\left(\\frac{\\phi^2}{2\\beta^2J}+h\\cdot\\tanh(\\beta h \\pm \\phi)\\right)$$\n",
    "\n",
    "We encounter the following artificial Hamiltonian in the process of the HMC algorithm:\n",
    "\n",
    "$$\\mathcal{H}=\\frac{p^2}{2}+\\frac{\\phi^2}{2\\beta J}-N\\log(2\\cosh(\\beta h + \\phi))$$\n",
    "\n",
    "*Determine the equations of motion (EoMs) for this Hamiltonian by applying the\n",
    "Hamilton equations*\n",
    "\n",
    "$$\\dot{p}=-\\frac{\\partial\\mathcal{H}}{\\partial\\phi}=-\\left(\\frac{\\phi}{\\beta J}-N\\cdot\\tanh(\\beta h + \\phi)\\right)$$\n",
    "$$\\dot{\\phi}=\\frac{\\partial\\mathcal{H}}{\\partial p}=p$$\n"
   ]
  },
  {
   "cell_type": "markdown",
   "metadata": {},
   "source": [
    "## Aim of the code\n",
    "blabla\n",
    "### Numerical approach\n",
    "bla\n",
    "### Analytical approach\n",
    "bla"
   ]
  },
  {
   "cell_type": "code",
   "execution_count": 2,
   "metadata": {},
   "outputs": [],
   "source": [
    "import numpy as np\n",
    "import matplotlib.pyplot as plt\n",
    "T=1\n",
    "beta=1/T\n",
    "J=1\n",
    "N_sites=8\n",
    "h=1\n",
    "def leap_frog(N,p0,phi0):\n",
    "    eps=1/N\n",
    "    p, phi = p0, phi0\n",
    "    #first leap-frog step\n",
    "    phi = phi+eps/2*p\n",
    "    #leap-frog\n",
    "    for i in range(0,N-1):\n",
    "        p=p-eps*(phi/(beta*J)-N_sites*np.tanh(beta*h+phi))\n",
    "        phi=phi+eps*p\n",
    "    #last step of leap-frog\n",
    "    p=p-eps*(phi/(beta*J)-N_sites*np.tanh(beta*h+phi))\n",
    "    phi=phi+eps/2*p\n",
    "    return p, phi\n",
    "def art_hamiltonian(p,phi,J,N_sites):\n",
    "    return p**2/2+phi**2/(2*beta*J)-N_sites*np.log(2*np.cosh(beta*h+phi))\n",
    "\n",
    "p_0=1\n",
    "phi_0=1\n",
    "hamiltonian_0=art_hamiltonian(p_0,phi_0,J,N_sites)\n",
    "hamiltonian=[]\n",
    "for i in range(1,100):\n",
    "    p, phi = leap_frog(i,p_0,phi_0)\n",
    "    hamiltonian.append(art_hamiltonian(p,phi,J,N_sites))\n",
    "\n",
    "    \n",
    "    \n",
    "\n"
   ]
  }
 ],
 "metadata": {
  "kernelspec": {
   "display_name": "Python 3",
   "language": "python",
   "name": "python3"
  },
  "language_info": {
   "codemirror_mode": {
    "name": "ipython",
    "version": 3
   },
   "file_extension": ".py",
   "mimetype": "text/x-python",
   "name": "python",
   "nbconvert_exporter": "python",
   "pygments_lexer": "ipython3",
   "version": "3.8.6"
  }
 },
 "nbformat": 4,
 "nbformat_minor": 4
}
