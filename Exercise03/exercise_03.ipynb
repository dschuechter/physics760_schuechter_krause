{
 "cells": [
  {
   "cell_type": "markdown",
   "metadata": {},
   "source": [
    "# Applying Hybrid Monte-Carlo (HMC) to the long range Ising model\n",
    "A Hybrid Monte-Carlo algorithm is used to study the dynamics of a long range 2d spin lattice and compared with analytically obtained results. Also a leap-frog integration is implemented in the process of the HMC algorithm. Bootstrap methods are used for error analysis of computed observables. \n",
    "\n",
    "## Theory\n",
    "*The expectation value of some operator $O$ is given by\n",
    "$$\\langle O \\rangle = \\frac{1}{Z}\\int \\text{d}\\phi O[\\phi]e^{-S[\\phi]}$$ Use the expression above and the fact that the mean magnetization (per site) and energy (per\n",
    "site) are given by $$\\langle m\\rangle=\\frac{T}{N}\\frac{\\partial\\log Z}{\\partial h },$$\n",
    "$$\\langle \\varepsilon\\rangle-\\frac{1}{N}\\frac{\\partial\\log Z}{\\partial \\beta }$$\n",
    "to derive corresponding expressions for $O[\\phi]$ for these quantities.*\n",
    "\n",
    "Doing the math yields:\n",
    "$$m[\\phi]=\\frac{1}{\\sqrt{2\\pi\\beta J}}\\tanh{(\\beta h \\pm \\phi)}$$\n",
    "$$\\varepsilon[\\phi]=-\\frac{1}{\\sqrt{2\\pi\\beta J}N}\\left(\\frac{\\phi^2}{2\\beta^2J}+h\\cdot\\tanh(\\beta h \\pm \\phi)\\right)$$\n",
    "\n",
    "We encounter the following artificial Hamiltonian in the process of the HMC algorithm:\n",
    "\n",
    "$$\\mathcal{H}=\\frac{p^2}{2}+\\frac{\\phi^2}{2\\beta J}-N\\log(2\\cosh(\\beta h + \\phi))$$\n",
    "\n",
    "*Determine the equations of motion (EoMs) for this Hamiltonian by applying the\n",
    "Hamilton equations*\n",
    "\n",
    "$$\\dot{p}=-\\frac{\\partial\\mathcal{H}}{\\partial\\phi}=\\frac{\\phi}{\\beta J}-N\\cdot\\tanh(\\beta h + \\phi)$$\n",
    "$$\\dot{\\phi}=\\frac{\\partial\\mathcal{H}}{\\partial p}=p$$"
   ]
  },
  {
   "cell_type": "markdown",
   "metadata": {},
   "source": [
    "## Aim of the code\n",
    "blabla\n",
    "### Numerical approach\n",
    "bla\n",
    "### Analytical approach\n",
    "bla"
   ]
  }
 ],
 "metadata": {
  "kernelspec": {
   "display_name": "Python 3",
   "language": "python",
   "name": "python3"
  },
  "language_info": {
   "codemirror_mode": {
    "name": "ipython",
    "version": 3
   },
   "file_extension": ".py",
   "mimetype": "text/x-python",
   "name": "python",
   "nbconvert_exporter": "python",
   "pygments_lexer": "ipython3",
   "version": "3.8.6"
  }
 },
 "nbformat": 4,
 "nbformat_minor": 4
}
