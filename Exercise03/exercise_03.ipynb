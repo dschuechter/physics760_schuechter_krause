{
 "cells": [
  {
   "cell_type": "markdown",
   "metadata": {},
   "source": [
    "# Applying Hybrid Monte-Carlo (HMC) to the long range Ising model\n",
    "A Hybrid Monte-Carlo algorithm is used to study the dynamics of a long range 2d spin lattice and compared with analytically obtained results. Also a leap-frog integration is implemented in the process of the HMC algorithm. Bootstrap methods are used for error analysis of computed observables. \n",
    "\n",
    "## Theory\n",
    "*The expectation value of some operator $O$ is given by\n",
    "$$\\langle O \\rangle = \\frac{1}{Z}\\int \\frac{\\text{d}\\phi}{\\sqrt{2\\pi\\beta\\hat{J}}} O[\\phi]e^{-S[\\phi]}$$ Use the expression above and the fact that the mean magnetization (per site) and energy (per\n",
    "site) are given by $$\\langle m\\rangle=\\frac{T}{N}\\frac{\\partial\\log Z}{\\partial h },$$\n",
    "$$\\langle \\varepsilon\\rangle-\\frac{1}{N}\\frac{\\partial\\log Z}{\\partial \\beta }$$\n",
    "to derive corresponding expressions for $O[\\phi]$ for these quantities.*\n",
    "\n",
    "Doing the math yields:\n",
    "$$m[\\phi]=\\tanh{(\\beta h \\pm \\phi)}$$\n",
    "$$\\varepsilon[\\phi]=-\\frac{1}{N}\\left(\\frac{\\phi^2}{2\\beta^2\\hat{J}}+h\\cdot\\tanh(\\beta h \\pm \\phi) -\\frac{1}{2\\beta} \\right)$$\n",
    "\n",
    "We encounter the following artificial Hamiltonian in the process of the HMC algorithm:\n",
    "\n",
    "$$\\mathcal{H}=\\frac{p^2}{2}+\\frac{\\phi^2}{2\\beta \\hat{J}}-N\\log(2\\cosh(\\beta h + \\phi) )$$\n",
    "\n",
    "*Determine the equations of motion (EoMs) for this Hamiltonian by applying the\n",
    "Hamilton equations*\n",
    "\n",
    "$$\\dot{p}=-\\frac{\\partial\\mathcal{H}}{\\partial\\phi}=-\\left(\\frac{\\phi}{\\beta \\hat{J}}-N\\cdot\\tanh(\\beta h + \\phi)\\right)$$\n",
    "$$\\dot{\\phi}=\\frac{\\partial\\mathcal{H}}{\\partial p}=p$$\n",
    "\n",
    "\n",
    "$$\\mathcal{H}=\\frac{p^2}{2}+\\frac{\\phi^2}{2\\beta \\hat{J}}-N\\log(2\\cosh(\\beta h + \\phi))$$\n"
   ]
  },
  {
   "cell_type": "code",
   "execution_count": 1,
   "metadata": {},
   "outputs": [
    {
     "data": {
      "image/png": "[encoded data removed]",
      "text/plain": [
       "<Figure size 720x360 with 1 Axes>"
      ]
     },
     "metadata": {
      "needs_background": "light"
     },
     "output_type": "display_data"
    }
   ],
   "source": [
    "import numpy as np\n",
    "import matplotlib.pyplot as plt\n",
    "import scipy.special as sc\n",
    "\n",
    "T=1\n",
    "beta=1/T\n",
    "N=15\n",
    "J=1\n",
    "h=1\n",
    "#pretty plots\n",
    "def beauty_plot():\n",
    "    plt.figure(figsize=(10,5))\n",
    "    plt.minorticks_on()\n",
    "    plt.rcParams[\"mathtext.fontset\"]=\"cm\"\n",
    "    plt.rcParams['errorbar.capsize'] = 3\n",
    "    plt.rcParams['mathtext.rm'] = 'serif'\n",
    "    font={'family' : 'serif','size'   : 22}\n",
    "    plt.rc(\"font\",**font)\n",
    "    plt.xticks(fontsize=22,fontname='DejaVu Serif')\n",
    "    plt.yticks(fontsize=22,fontname='DejaVu Serif')\n",
    "    plt.grid(color='black',linestyle=':')\n",
    "\n",
    "def leap_frog(N_md, p_0, phi_0, J):\n",
    "    epsilon = 1/N_md\n",
    "    p, phi = p_0, phi_0\n",
    "    #first leap-frog step\n",
    "    phi = phi+epsilon/2*p\n",
    "    for i in range(0,N_md-1):\n",
    "        p=p-epsilon*(phi/(beta*J)-N*np.tanh(beta*h+phi))\n",
    "        phi=phi+epsilon*p\n",
    "    #last step of leap-frog\n",
    "    p=p-epsilon*(phi/(beta*J)-N*np.tanh(beta*h+phi))\n",
    "    phi=phi+epsilon/2*p\n",
    "    return p, phi\n",
    "\n",
    "def art_hamiltonian(p, phi,J, N):\n",
    "    return p**2/2+phi**2/(2*beta*J)-N*np.log(2*np.cosh(beta*h+phi))\n",
    "\n",
    "p_0=1\n",
    "phi_0=1\n",
    "hamiltonian_0=art_hamiltonian(p_0,phi_0,J/N ,N)\n",
    "hamiltonian=[]\n",
    "for i in range(1,101):\n",
    "    p, phi = leap_frog(i,p_0,phi_0, J/N)\n",
    "    hamiltonian.append(np.abs((art_hamiltonian(p,phi,J/N,N)-hamiltonian_0)/hamiltonian_0))\n",
    "beauty_plot()\n",
    "plt.plot(np.linspace(1,100,100),hamiltonian,'o',c=\"black\")    \n",
    "plt.yscale(\"log\")    \n",
    "plt.xlabel(\"$N_{md}$\")\n",
    "plt.ylabel(\"$\\\\left|\\\\frac{\\\\mathcal{H}-\\\\mathcal{H}_0}{\\\\mathcal{H}_0}\\\\right|$\")\n",
    "plt.show()"
   ]
  },
  {
   "cell_type": "markdown",
   "metadata": {},
   "source": [
    "### Implementing HMC "
   ]
  },
  {
   "cell_type": "code",
   "execution_count": 2,
   "metadata": {},
   "outputs": [],
   "source": [
    "nTrajs = 4000\n",
    "N_md = 50\n",
    "N = 15\n",
    "h=.5\n",
    "nBS=100\n",
    "\n",
    "def bootstrap_error(s, nBS): \n",
    "    n=len(s)\n",
    "    bsmean = np.array([])\n",
    "    for bs in range(nBS):\n",
    "        index = np.random.randint(n, size=n)\n",
    "        bsmean = np.append(bsmean, np.array([s[index[i]] for i in range(n)]).mean())\n",
    "    return bsmean.std()\n",
    "\n",
    "\n",
    "\n",
    "def numerical(J):\n",
    "    phi_list = [1]\n",
    "    m_observe = []\n",
    "    energy_observe = []\n",
    "    for traj in range(nTrajs):\n",
    "        p_0 = np.random.normal(0,1)\n",
    "        phi_0 = phi_list[-1]\n",
    "        hamiltonian_0 = art_hamiltonian(p_0, phi_0, J/N, N)\n",
    "        # Calculate p' and phi'\n",
    "        p, phi = leap_frog(N_md,p_0,phi_0, J/N)\n",
    "        hamiltonian = art_hamiltonian(p, phi, J/N, N)\n",
    "        if np.random.uniform(0,1)<=np.exp(-beta*(hamiltonian-hamiltonian_0)):\n",
    "            phi_list.append(phi)\n",
    "        else:\n",
    "            phi_list.append(phi_0)\n",
    "    # Measurements\n",
    "    m = []\n",
    "    e=[]\n",
    "    for phi in phi_list:\n",
    "        m.append(np.tanh(beta*h+phi))\n",
    "        e.append(-1/N*(phi*phi/(2*beta*beta*J/N)+h*N*np.tanh(beta*h+phi)-1/(2*beta)))\n",
    "    \n",
    "    return np.mean(m), np.mean(e), bootstrap_error(m, nBS), bootstrap_error(e, nBS)\n"
   ]
  },
  {
   "cell_type": "markdown",
   "metadata": {},
   "source": [
    "### Analytical approach\n"
   ]
  },
  {
   "cell_type": "code",
   "execution_count": 3,
   "metadata": {},
   "outputs": [],
   "source": [
    "def f_func(x,J,N):\n",
    "    return np.exp(1/2*beta*J/N*x**2+beta*h*x)\n",
    "\n",
    "def Z_func(J, N):\n",
    "    f_sum = 0\n",
    "    N_list = np.linspace(0, N, N+1)\n",
    "    for n in N_list:\n",
    "        f_sum += sc.binom(N, n)*f_func(N-2*n,J, N)\n",
    "    return f_sum\n",
    "\n",
    "def m_analytical(J, N):\n",
    "    m_sum = 0\n",
    "    N_list = np.linspace(0, N, N+1)\n",
    "    for n in N_list:\n",
    "        m_sum += sc.binom(N, n)* f_func(N-2*n, J, N)*(N-2*n)\n",
    "    return 1/(N*Z_func(J, N))*m_sum\n",
    "def energy_analytical(J,N):\n",
    "    e_sum=0\n",
    "    N_list=np.linspace(0,N,N+1)\n",
    "    for n in N_list:\n",
    "        e_sum+=sc.binom(N,n)*(0.5*beta*J/N*(N-2*n)**2+beta*h*(N-2*n))*f_func(N-2*n,J,N)\n",
    "    return -1/(N*Z_func(J, N))*e_sum\n",
    "    "
   ]
  },
  {
   "cell_type": "code",
   "execution_count": null,
   "metadata": {},
   "outputs": [],
   "source": [
    "N_list = np.array([5,10, 15, 20])\n",
    "J_list = np.array(np.linspace(0.2,2,15))\n",
    "\n",
    "\n",
    "m_observed = []\n",
    "m_error = []\n",
    "energy_observed = []\n",
    "energy_error = []\n",
    "\n",
    "count = 0\n",
    "for N in N_list:\n",
    "    m_observed.append([])\n",
    "    m_error.append([])\n",
    "    energy_observed.append([])\n",
    "    energy_error.append([])\n",
    "    for J in J_list:\n",
    "        m, e, error_m, error_e = numerical(J)\n",
    "        m_observed[count].append(m)\n",
    "        energy_observed[count].append(e)\n",
    "        m_error[count].append(error_m)\n",
    "        energy_error[count].append(error_e)\n",
    "    count += 1\n"
   ]
  },
  {
   "cell_type": "code",
   "execution_count": null,
   "metadata": {},
   "outputs": [],
   "source": [
    "beauty_plot()\n",
    "colormap = plt.cm.gist_ncar\n",
    "colors = [colormap(i) for i in np.linspace(0, 1,len(N_list)+1)]\n",
    "for i in range(len(m_observed)):\n",
    "    plt.errorbar(x=J_list, y=m_observed[i],yerr=m_error[i],marker='.',color=colors[i],linestyle=\"None\", label = \"$N=$%d\"%(N_list[i]))\n",
    "    plt.plot(J_list, m_analytical(J_list, N_list[i]), color=colors[i],)\n",
    "plt.xlabel(\"$J$\")\n",
    "plt.ylabel(\"$\\\\langle m \\\\rangle$\")\n",
    "plt.legend()\n",
    "plt.show()\n"
   ]
  },
  {
   "cell_type": "code",
   "execution_count": null,
   "metadata": {},
   "outputs": [],
   "source": [
    "beauty_plot()\n",
    "for i in range(len(energy_observed)):\n",
    "    plt.errorbar(x=J_list, y=energy_observed[i],yerr=energy_error[i],color=colors[i],marker='.',linestyle=\"None\", label = \"$N=$%d\"%(N_list[i]))\n",
    "    plt.plot(J_list, energy_analytical(J_list, N_list[i]),color=colors[i])\n",
    "plt.xlabel(\"$J$\")\n",
    "plt.ylabel(\"$\\\\langle \\\\beta\\\\varepsilon \\\\rangle$\")\n",
    "plt.legend()\n",
    "plt.show()\n"
   ]
  }
 ],
 "metadata": {
  "kernelspec": {
   "display_name": "Python 3",
   "language": "python",
   "name": "python3"
  },
  "language_info": {
   "codemirror_mode": {
    "name": "ipython",
    "version": 3
   },
   "file_extension": ".py",
   "mimetype": "text/x-python",
   "name": "python",
   "nbconvert_exporter": "python",
   "pygments_lexer": "ipython3",
   "version": "3.8.6"
  }
 },
 "nbformat": 4,
 "nbformat_minor": 4
}
