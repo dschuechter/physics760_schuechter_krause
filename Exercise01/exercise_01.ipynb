{
 "cells": [
  {
   "cell_type": "markdown",
   "metadata": {},
   "source": [
    "# Exercise 01 - Simulation of the 1d-Ising-model\n",
    "\n",
    "The one-dimensional Ising-model is studied via a Monte-Carlo-Simulation and the results will be compared to analytically calculated solutions.\n",
    "\n",
    "## Theory\n",
    "\n",
    "Consider a 1-dimensional chain of spins with length $N$ $\\mathbf{s_N}=(\\uparrow,\\downarrow,\\downarrow,\\uparrow,\\dots)$ where each spin can take the value $s_n=\\pm 1$. This chain of spins lies in a heat bath with temperature $T$ and is exposed to an external magnetic field of strength $h$. Following this the Hamiltonian is given as \n",
    "\n",
    "$$\\mathcal{H}(s)=-J\\sum_{\\langle x,y\\rangle}s_xs_y-h\\sum_{x}s_x. $$\n",
    "1. *Discuss the physical meaning of J, in particular the sign of J, and the role it plays in magnets, for example.*\n",
    "\n",
    "Here $J$ describes the strength of the spin-spin-coupling. For $J<0$ $\\mathcal{H}(s)$ describes a repulsive potential between the spins (antiferromagnetic) $J>0$ $\\mathcal{H}(s)$ describes an attractive potential (ferromagnetic). Trivially for $J=0$ no interaction between spins take place.\n",
    "\n",
    "2. *Clarify what it means to have periodic boundary conditions (nearest neighbors).* \n",
    "\n",
    "To simulate an *infinite* chain of spins one employs periodic boundary conditions, which means that each element of the chain $s_n$ has the nearest neighbors $s_{n-1}$ and $s_{n+1}$ regardless of the actual position in the chain. That means if $n=N$ ($n=0$) the nearest neighbors are $[N-1,0]$ ($[N,1]$). \n",
    "\n",
    "The probability of finding a specific spin configuration $\\mathbf{s_N}$ is given by \n",
    "\n",
    "$$\\mathbf{P}(\\mathbf{s})=\\exp{\\bigg(-\\frac{\\mathcal{H}(\\mathbf{s})}{k_bT}\\bigg)}/\\sum_{\\mathbf{s'}}\\exp{\\bigg(-\\frac{\\mathcal{H}(\\mathbf{s'})}{k_bT}\\bigg)}:=\\frac{1}{Z}\\exp{\\bigg(-\\frac{\\mathcal{H}(\\mathbf{s'})}{k_bT}\\bigg)}$$\n",
    "\n",
    "with the partition function $Z:=\\sum_{\\mathbf{s'}}\\exp{\\left(\\frac{-\\mathcal{H}(\\mathbf{s'})}{k_BT}\\right)}$ which can be calculated analytically (see e.g. [this wikipedia-article](https://en.wikipedia.org/wiki/Ising_model#Ising's_exact_solution) ) to be \n",
    "$$Z=\\lambda_+^N+\\lambda_-^N ; \\lambda_\\pm=e^{\\frac{J}{T}}\\bigg(\\cosh\\big(\\frac{h}{T}\\big)\\pm\\sqrt{\\sinh\\big(\\frac{h}{T}\\big)^2+e^{-4\\frac{J}{T}}}\\bigg)$$\n",
    "where we set $k_B=1$.\n",
    "\n",
    "*Since we work with units where $k_B=1$, what are the relevant dimensionless ratios in the problem?*\n",
    "\n",
    "This leads to $\\frac{J}{T}$ and $\\frac{h}{T}$ to be dimensionless.\n",
    "\n",
    "With the partition function one can calculate the magnetization per spin $$\\begin{equation} \\langle m \\rangle = \\frac{T}{N}\\frac{\\partial\\log Z}{\\partial h }=\\frac{1-(\\lambda_-^N/\\lambda_+^N)}{1+(\\lambda_-^N/\\lambda_+^N)}\\frac{\\left(\\sinh{\\frac{h}{T}}\\right)}{\\sqrt{\\sinh{\\frac{h}{T}}^2+e^{-4J/T}}}\\overset{N\\to\\infty}{=}\\frac{\\left(\\sinh{\\frac{h}{T}}\\right)}{\\sqrt{\\sinh{\\frac{h}{T}}^2+e^{-4J/T}}} \\label{eq:eq1}\\end{equation} \\tag{1}$$\n",
    "## Aim of the code\n"
   ]
  },
  {
   "cell_type": "markdown",
   "metadata": {},
   "source": [
    "\n",
    "\n",
    "3. *Implement the Ising 1d simulation: determine an estimate for magnetization per spin* $$\\langle m\\rangle=\\frac{T}{N}\\frac{\\partial \\log{Z}}{\\partial h}$$ *and estimate the error of your estimate.*\n",
    "\n",
    "Below the implementation for an estimate of the magnetization per spin $\\langle m \\rangle$ can be found. We divided it into two parts, the numerical approach, where we use a Monte-Carlo-Simulation to get a result and the analytical approach where we simply implemented equation (1) in python code."
   ]
  },
  {
   "cell_type": "markdown",
   "metadata": {},
   "source": [
    "### Numerical approach\n",
    "To numerically estimate the magnetizazion per spin we used the Monte-Carlo-Method. We randomly created an ensemble $\\mathbf{S}$ with random spin configurations $\\mathbf{s}$ with `ensemble_length` spin configurations. Then the expectation value can be estimated via $$\\langle m\\rangle=\\frac{\\sum_{\\mathbf{s} \\in\\{\\mathbf{S}\\}} O(\\mathbf{s}) e^{-\\beta \\mathcal{H}(\\mathbf{s})}}{\\sum_{\\mathbf{s} \\in\\{\\mathbf{S}\\}} e^{-\\beta \\mathcal{H}(\\mathbf{s})}}.$$\n",
    "To estimate an error of the estimate we calculate $\\langle m\\rangle$ several times and compute the variance $\\sigma$ of the resulting distribution of $\\langle m_i\\rangle$."
   ]
  },
  {
   "cell_type": "code",
   "execution_count": 1,
   "metadata": {},
   "outputs": [],
   "source": [
    "# Import packages\n",
    "import numpy as np\n",
    "import random\n",
    "import matplotlib.pyplot as plt\n",
    "from IPython.display import Markdown, display\n",
    "def printmd(string):\n",
    "    display(Markdown(string))\n",
    "    \n",
    "# Set constants\n",
    "N=20\n",
    "ensamble_length=10000\n",
    "T=1\n",
    "J=1\n",
    "h=1\n",
    "\n",
    "# A method to set the plot parameters and make them beautiful ;)\n",
    "def beauty_plot():\n",
    "    plt.figure(figsize=(10,5))\n",
    "    plt.minorticks_on()\n",
    "    plt.rcParams[\"mathtext.fontset\"]=\"cm\"\n",
    "    plt.rcParams['errorbar.capsize'] = 3\n",
    "    plt.rcParams['mathtext.rm'] = 'serif'\n",
    "    font={'family' : 'serif','size'   : 22}\n",
    "    plt.rc(\"font\",**font)\n",
    "    plt.xticks(fontsize=22,fontname='DejaVu Serif')\n",
    "    plt.yticks(fontsize=22,fontname='DejaVu Serif')\n",
    "    plt.grid(color='black',linestyle=':')\n",
    "    \n",
    "# Define the Hamiltonian\n",
    "def Hamiltonian(s,h):\n",
    "    neighbor_sum = 0\n",
    "    spin_sum = 0 \n",
    "    for i in range(0,len(s)):\n",
    "        # Sum the nearest neighbors of the current position. Apply the boundary conditions\n",
    "        try:\n",
    "            neighbor_sum += s[i]*s[i+1]\n",
    "            spin_sum += s[i]\n",
    "        except:\n",
    "            neighbor_sum+=s[i]*s[0]\n",
    "            spin_sum += s[i]\n",
    "\n",
    "    return -J*neighbor_sum-h*spin_sum\n",
    "\n",
    "#Calculate the expectation value\n",
    "def numerical(N,h):\n",
    "    # Create *ensable_length* spin ensambles. Each ensable contains N elements\n",
    "    ensamble = []\n",
    "    for i in range(0, ensamble_length):\n",
    "        ensamble.append(2*np.random.randint(0,2,size=N)-1)\n",
    "    denominator = 0\n",
    "    nominator = 0\n",
    "    for s in ensamble:\n",
    "        denominator+=np.sum(s)*np.exp(-Hamiltonian(s,h)/T)\n",
    "        nominator+=np.exp(-Hamiltonian(s,h)/T)\n",
    "    expectation_m = denominator/N/nominator#calculate <m> the magnetization per spin, hence 1/N\n",
    "    \n",
    "    return expectation_m"
   ]
  },
  {
   "cell_type": "markdown",
   "metadata": {},
   "source": [
    "### Analytical approach\n",
    "To compare the numerical resolutions with the analytical ones, the following code represents the shown equations"
   ]
  },
  {
   "cell_type": "code",
   "execution_count": 2,
   "metadata": {},
   "outputs": [],
   "source": [
    "##this is just implemented what was stated in the theory section\n",
    "def lamda(sign, h):\n",
    "    return np.exp(J/T)*(np.cosh(h/T)+sign*np.sqrt(np.sinh(h/T)**2+np.exp(-4*J/T)))\n",
    "    \n",
    "\n",
    "def analytical(inf, N, h):\n",
    "    if inf == True:\n",
    "        return np.sinh(h/T)/(np.sqrt(np.sinh(h/T)**2+np.exp(-4*J/T)))\n",
    "    else:\n",
    "        return (1-(lamda(-1, h)**N/lamda(1, h)**N))/(1+(lamda(-1, h)**N/lamda(1, h)**N))*(np.sinh(h/T))/(np.sqrt(np.sinh(h/T)**2+np.exp(-4*J/T)))\n",
    "\n"
   ]
  },
  {
   "cell_type": "markdown",
   "metadata": {},
   "source": [
    "### Results and comparison"
   ]
  },
  {
   "cell_type": "markdown",
   "metadata": {},
   "source": [
    "#### 1. The number of spins N for fixed h\n",
    "First we look at the dependence of $\\langle m \\rangle$ of $N$. The number of spins $N\\in[1,20]$ was chosen, because  the possible combination count of $10!=3628800$ is higher than the possible spin combinations that are represented in the spin ensamble. Therefore it is only in this range, where a Monte-Carlo calculation is appropiate, since for smaller $N$ the values could be calculated exactly numerically without much effort. The constant external fieldstrength is fixed at $h=1$."
   ]
  },
  {
   "cell_type": "code",
   "execution_count": 3,
   "metadata": {},
   "outputs": [
    {
     "data": {
      "image/png": "[encoded data removed]",
      "text/plain": [
       "<Figure size 720x360 with 1 Axes>"
      ]
     },
     "metadata": {
      "needs_background": "light"
     },
     "output_type": "display_data"
    }
   ],
   "source": [
    "N=np.linspace(1,20, 20)\n",
    "h=1\n",
    "m=5\n",
    "expectations_simulated_varN = []\n",
    "expectations_analytical_varN = []\n",
    "expectations_simulated_varN_err=[]\n",
    "# Run the simulation and analytical approach for variable N and fixed h\n",
    "for n in N:\n",
    "    thisn=[]\n",
    "    for i in range(0,m): # do the simulations m times to later estimate an error\n",
    "        thisn.append(numerical(int(n),h))\n",
    "    expectations_simulated_varN.append(np.mean(thisn))#only take the mean values\n",
    "    expectations_simulated_varN_err.append(np.std(thisn))#also compute standard derivation\n",
    "    expectations_analytical_varN.append(analytical(False,int(n),h))\n",
    "\n",
    "beauty_plot()\n",
    "plt.errorbar(N,expectations_simulated_varN,yerr=expectations_simulated_varN_err,fmt='o', color=\"blue\", label=\"Simulated data\")\n",
    "plt.plot(N,expectations_analytical_varN, \".\", color=\"red\", label=\"Analytical data\")\n",
    "plt.xlabel(\"N\",fontsize=22,fontname='DejaVu Serif')\n",
    "plt.ylabel(\"$\\\\langle m \\\\rangle$\",fontsize=22,fontname='DejaVu Serif')\n",
    "plt.legend()\n",
    "plt.show()"
   ]
  },
  {
   "cell_type": "markdown",
   "metadata": {},
   "source": [
    "One can see that the expected magnetization per spin converges very quickly against a constant value. The simulations more or less result in that value, although a overall trend cannot be recognized because the expected (analytical) value should be constant. The analytically obtained value is mostly within the estimated errors for each value respectively. "
   ]
  },
  {
   "cell_type": "markdown",
   "metadata": {},
   "source": [
    "#### 2. The external field strength h for a fixed N\n",
    "Now we study the dependence of $\\langle m \\rangle$ on the external field $h$ where we explicitly examine h$\\in[-1,1]$ and N=20. One would expect that the magnetization per spin depends linearly ond that magnetic field."
   ]
  },
  {
   "cell_type": "code",
   "execution_count": null,
   "metadata": {
    "scrolled": false
   },
   "outputs": [],
   "source": [
    "N=8\n",
    "m=5\n",
    "h=np.linspace(1,-1, 20)\n",
    "expectations_simulated_varh = []\n",
    "expectations_simulated_varh_err=[]\n",
    "expectations_analytical_varh = []\n",
    "# Run the simulation and analytical approach for variable h and constant N\n",
    "for H in h:\n",
    "    thish=[]\n",
    "    for i in range(0,m): # do the simulations m times to later estimate an error\n",
    "        thish.append(numerical(N,float(H)))\n",
    "    expectations_simulated_varh.append(np.mean(thish))#only take the mean values\n",
    "    expectations_simulated_varh_err.append(np.std(thish))#also compute standard derivation\n",
    "    expectations_analytical_varh.append(analytical(False,N,float(H)))\n",
    "\n",
    "# Plot the results in a beautiful way ;)\n",
    "beauty_plot()\n",
    "plt.errorbar(h,expectations_simulated_varh,yerr=expectations_simulated_varh_err, fmt='o', color=\"blue\", label=\"Simulated data\",zorder=-1)\n",
    "plt.plot(h,expectations_analytical_varh, \".\", color=\"red\", label=\"Analytical data\",zorder=1)\n",
    "plt.xlabel(\"h\",fontsize=22,fontname='DejaVu Serif')\n",
    "plt.ylabel(\"$\\\\langle m \\\\rangle$\",fontsize=22,fontname='DejaVu Serif')\n",
    "plt.legend()\n",
    "plt.show()"
   ]
  },
  {
   "cell_type": "markdown",
   "metadata": {},
   "source": [
    "In contrast to above here a general trend towards a bigger value of $\\langle m\\rangle$ with increasing values of $h$ can be recognized undoubtedly which is also what would be expected if one increases the applied magnetic field."
   ]
  },
  {
   "cell_type": "markdown",
   "metadata": {},
   "source": [
    "#### 3. Comparison for $N\\rightarrow \\infty$ \n",
    "The so called *thermodynamic limit* is reached for $N\\rightarrow \\infty$. The results for this case are:"
   ]
  },
  {
   "cell_type": "code",
   "execution_count": null,
   "metadata": {},
   "outputs": [],
   "source": [
    "expectations_simulated_infty = []\n",
    "N=20\n",
    "h=1\n",
    "\n",
    "for i in range(0,10):\n",
    "    expectations_simulated_infty.append(numerical(N,h))\n",
    "expectations_simulated_infty_error=np.std(expectations_simulated_infty)\n",
    "\n",
    "printmd(f\"Analytical: $\\\\langle m \\\\rangle = ${analytical(True, 20,1)}\")\n",
    "printmd(\"Numerical: $\\\\langle m \\\\rangle = %.10f \\pm %.10f$\"%(np.mean(expectations_simulated_infty), expectations_simulated_infty_error))"
   ]
  },
  {
   "cell_type": "markdown",
   "metadata": {},
   "source": [
    "One can see that $N=\\infty$ is sufficently satisfied already for relatively small Values of $N$."
   ]
  },
  {
   "cell_type": "code",
   "execution_count": null,
   "metadata": {},
   "outputs": [],
   "source": []
  },
  {
   "cell_type": "code",
   "execution_count": null,
   "metadata": {},
   "outputs": [],
   "source": []
  }
 ],
 "metadata": {
  "kernelspec": {
   "display_name": "Python 3",
   "language": "python",
   "name": "python3"
  },
  "language_info": {
   "codemirror_mode": {
    "name": "ipython",
    "version": 3
   },
   "file_extension": ".py",
   "mimetype": "text/x-python",
   "name": "python",
   "nbconvert_exporter": "python",
   "pygments_lexer": "ipython3",
   "version": "3.8.6"
  }
 },
 "nbformat": 4,
 "nbformat_minor": 4
}
