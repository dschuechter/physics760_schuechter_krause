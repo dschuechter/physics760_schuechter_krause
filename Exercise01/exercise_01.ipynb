{
 "cells": [
  {
   "cell_type": "markdown",
   "metadata": {},
   "source": [
    "# Exercise 01 - Simulation of the 1d-Ising-model\n",
    "\n",
    "The one-dimensional Ising-model is studied via a Monte-Carlo-Simulation and the results will be compared to analytically calculated solutions.\n",
    "\n",
    "## Theory\n",
    "\n",
    "Consider a 1-dimensional chain of spins with length $N$ $\\mathbf{s_N}=(\\uparrow,\\downarrow,\\downarrow,\\uparrow,\\dots)$ where each spin can take the value $s_n=\\pm 1$. This chain of spins lies in a heat bath with temperature $T$ and is exposed to an external magnetic field of strength $h$. Following this the Hamiltonian is given as \n",
    "\n",
    "$$\\mathcal{H}(s)=-J\\sum_{\\langle x,y\\rangle}s_xs_y-h\\sum_{x}s_x. $$\n",
    "1. *Discuss the physical meaning of J, in particular the sign of J, and the role it plays in magnets, for example.*\n",
    "\n",
    "Here $J$ describes the strength of the spin-spin-coupling. For $J<0$ $\\mathcal{H}(s)$ describes a repulsive potential between the spins (antiferromagnetic) $J>0$ $\\mathcal{H}(s)$ describes an attractive potential (ferromagnetic). Trivially for $J=0$ no interaction between spins take place.\n",
    "\n",
    "2. *Clarify what it means to have periodic boundary conditions (nearest neighbors).* \n",
    "\n",
    "To simulate an *infinite* chain of spins one employs periodic boundary conditions, which means that each element of the chain $s_n$ has the nearest neighbors $s_{n-1}$ and $s_{n+1}$ regardless of the actual position in the chain. That means if $n=N$ ($n=0$) the nearest neighbors are $[N-1,0]$ ($[N,1]$). \n",
    "\n",
    "The probability of finding a specific spin configuration $\\mathbf{s_N}$ is given by \n",
    "\n",
    "$$\\mathbf{P}(\\mathbf{s})=\\exp{\\bigg(-\\frac{\\mathcal{H}(\\mathbf{s})}{k_bT}\\bigg)}/\\sum_{\\mathbf{s'}}\\exp{\\bigg(-\\frac{\\mathcal{H}(\\mathbf{s'})}{k_bT}\\bigg)}:=\\frac{1}{Z}\\exp{\\bigg(-\\frac{\\mathcal{H}(\\mathbf{s'})}{k_bT}\\bigg)}$$\n",
    "\n",
    "with the partition function $Z:=\\sum_{\\mathbf{s'}}\\exp{\\left(\\frac{-\\mathcal{H}(\\mathbf{s'})}{k_BT}\\right)}$ which can be calculated analytically (see e.g. [this wikipedia-article](https://en.wikipedia.org/wiki/Ising_model#Ising's_exact_solution) ) to be \n",
    "$$Z=\\lambda_+^N+\\lambda_-^N ; \\lambda_\\pm=e^{\\frac{J}{T}}\\bigg(\\cosh\\big(\\frac{h}{T}\\big)\\pm\\sqrt{\\sinh\\big(\\frac{h}{T}\\big)^2+e^{-4\\frac{J}{T}}}\\bigg)$$\n",
    "where we set $k_B=1$.\n",
    "\n",
    "*Since we work units where $k_B=1$, what are the relevant dimensionless ratios in the problem?*\n",
    "\n",
    "This leads to $\\frac{J}{T}$ and $\\frac{h}{T}$ to be dimensionless.\n",
    "\n",
    "With the partition function one can calculate the magnetization per spin $$\\langle m \\rangle = \\frac{T}{N}\\frac{\\partial\\log Z}{\\partial h }=\\frac{1-(\\lambda_-^N/\\lambda_+^N)}{1+(\\lambda_-^N/\\lambda_+^N)}\\frac{\\left(\\sinh{\\frac{h}{T}}\\right)}{\\sqrt{\\sinh{\\frac{h}{T}}^2+e^{-4J/T}}}\\overset{N\\to\\infty}{=}\\frac{\\left(\\sinh{\\frac{h}{T}}\\right)}{\\sqrt{\\sinh{\\frac{h}{T}}^2+e^{-4J/T}}}$$\n",
    "## Aim of the code\n"
   ]
  },
  {
   "cell_type": "markdown",
   "metadata": {},
   "source": [
    "\n",
    "\n",
    "3. *Implement the Ising 1d simulation: determine an estimate for magnetization per spin* $$\\langle m\\rangle=-\\frac{T}{N}\\frac{\\partial \\log{Z}}{\\partial h}$$ *and estimate the error of your estimate.*"
   ]
  },
  {
   "cell_type": "markdown",
   "metadata": {},
   "source": [
    "### Numerical approach"
   ]
  },
  {
   "cell_type": "code",
   "execution_count": 4,
   "metadata": {},
   "outputs": [],
   "source": [
    "import numpy as np\n",
    "import random\n",
    "\n",
    "# Set constants\n",
    "\n",
    "N=20\n",
    "ensamble_length=100000\n",
    "T=300\n",
    "J=1\n",
    "h=1\n",
    "\n",
    "\n",
    "# Define the Hamiltonian\n",
    "def H(s):\n",
    "    neighbor_sum = 0\n",
    "    for i in range(0,len(s)):\n",
    "        # Sum the nearest neighbors of the current position. Apply the boundary conditions\n",
    "        try:\n",
    "            neighbor_sum += s[i]*s[i+1]\n",
    "        except:\n",
    "            neighbor_sum+=s[i]+s[0]\n",
    "        \n",
    "\n",
    "    return -J*neighbor_sum-h*np.sum(s)\n",
    "\n",
    "#Calculate the expectation value\n",
    "def numerical():\n",
    "    # Create *ensable_length* spin ensambles. Each ensable contains N elements\n",
    "    ensamble = []\n",
    "    for i in range(0, ensamble_length):\n",
    "        ensamble.append(2*np.random.randint(0,2,size=N)-1)\n",
    "    denominator = 0\n",
    "    nominator = 0\n",
    "    for s in ensamble:\n",
    "        denominator+=np.sum(s)*np.exp(-H(s)/T)\n",
    "        nominator+=np.exp(-H(s)/T)\n",
    "    expectation_m = denominator/nominator\n",
    "    \n",
    "    return expectation_m"
   ]
  },
  {
   "cell_type": "markdown",
   "metadata": {},
   "source": [
    "### Analytical approach"
   ]
  },
  {
   "cell_type": "code",
   "execution_count": 5,
   "metadata": {},
   "outputs": [],
   "source": [
    "def lamda(sign):\n",
    "    return np.exp(J/T)*(np.cosh(h/T)+sign*np.sqrt(np.sinh(h/T)**2+np.exp(-4*J/T)))\n",
    "\n",
    "def analytical(inf):\n",
    "    if inf == True:\n",
    "        return np.sinh(h/T)/(np.sqrt(np.sinh(h/T)**2+np.exp(4*J/T)))\n",
    "    else:\n",
    "        return (1-(lamda(-1)**N/lamda(1)**N))/(1+(lamda(-1)**N/lamda(1)**N))*(np.sinh(h/T))/(np.sqrt(np.sinh(h/T)**2+np.exp(-4*J/T)))\n",
    "\n"
   ]
  },
  {
   "cell_type": "code",
   "execution_count": 6,
   "metadata": {},
   "outputs": [
    {
     "name": "stdout",
     "output_type": "stream",
     "text": [
      "0.08483931464631596\n",
      "0.003355617116083284\n"
     ]
    }
   ],
   "source": [
    "print(numerical())\n",
    "print(analytical(False))"
   ]
  },
  {
   "cell_type": "code",
   "execution_count": null,
   "metadata": {},
   "outputs": [],
   "source": []
  }
 ],
 "metadata": {
  "kernelspec": {
   "display_name": "Python 3",
   "language": "python",
   "name": "python3"
  },
  "language_info": {
   "codemirror_mode": {
    "name": "ipython",
    "version": 3
   },
   "file_extension": ".py",
   "mimetype": "text/x-python",
   "name": "python",
   "nbconvert_exporter": "python",
   "pygments_lexer": "ipython3",
   "version": "3.8.5"
  }
 },
 "nbformat": 4,
 "nbformat_minor": 4
}
